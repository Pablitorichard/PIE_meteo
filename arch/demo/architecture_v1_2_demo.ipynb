{
 "cells": [
  {
   "cell_type": "markdown",
   "metadata": {},
   "source": [
    "# <center><span style=\"font-size: 50px; color: blue;\">ARCHITECTURE V1.2 DEMO</span></center>\n",
    "\n",
    "<center><span style=\"font-size: 25px; color: purple;\">This notebook shows how to use our new architecture to perform a simulation</span></center>\n",
    "<p></p>\n",
    "\n",
    "<center><span style=\"font-size: 16px; color: black;\">Please make sure you installed our module named <b><i>filament<i/></b> by running the following commands in a terminal:</span></center>\n",
    "<p></p>\n",
    "\n",
    "<center><code style=\"font-size: 16px; color: green;\">$ cd PIE_meteo/arch/\n",
    "$ python setup.py install"
   ]
  },
  {
   "cell_type": "markdown",
   "metadata": {},
   "source": [
    "# Our module is named filament"
   ]
  },
  {
   "cell_type": "code",
   "execution_count": null,
   "metadata": {},
   "outputs": [],
   "source": [
    "from filament.core.grid import Grid\n",
    "from filament.core.state import State\n",
    "from filament.core.simulation import Simulation\n",
    "from filament.test.test_cases import v_stripe_test, bubble_test, gaussian_test"
   ]
  },
  {
   "cell_type": "markdown",
   "metadata": {},
   "source": [
    "# Simulation parameters"
   ]
  },
  {
   "cell_type": "code",
   "execution_count": null,
   "metadata": {},
   "outputs": [],
   "source": [
    "Lx = 2048e3\n",
    "Ly = 1024e3\n",
    "Nx = 256\n",
    "Ny = 128\n",
    "\n",
    "\n",
    "T = 2*3600 # Complete simulation is no more very long\n",
    "dt = 300\n",
    "Nt = int(T//dt)\n",
    "\n",
    "\n",
    "dX = Nx//8  # used to shape the initial v-stripe data\n",
    "dY = Ny//15\n",
    "\n",
    "nb_state = 2  # number of instants in initial data"
   ]
  },
  {
   "cell_type": "markdown",
   "metadata": {},
   "source": [
    "# We import the scientific methods (Hi Olivier & Max)"
   ]
  },
  {
   "cell_type": "code",
   "execution_count": null,
   "metadata": {},
   "outputs": [],
   "source": [
    "from filament.methods.pseudo_spectral_wind import pseudo_spectral_wind\n",
    "from filament.methods.wrap_advection_step_3P import wrap_advection_step_3P\n",
    "from filament.methods.wrap_wv import wrap_wv\n",
    "from filament.methods.end_pop import end_pop"
   ]
  },
  {
   "cell_type": "markdown",
   "metadata": {},
   "source": [
    "Your methods have just been wrapped in such a way it fits our architechture, here is an example of a stupid method. Nothing of scientific, but you can see its signature, and basically understand how we expect a method to interact with data."
   ]
  },
  {
   "cell_type": "code",
   "execution_count": null,
   "metadata": {},
   "outputs": [],
   "source": [
    "def stupid_method(history, verbose, *args, **kwargs):\n",
    "    last_state = history.state_list[-1]\n",
    "    \n",
    "    new_state = State.copy(last_state)\n",
    "    new_state.t += dt\n",
    "    \n",
    "    print(new_state.t) if verbose else None\n",
    "    \n",
    "    new_state.vrs['theta_t'][int(new_state.t) % Nx, int(new_state.t) % Ny] = 1 # yes it is stupid\n",
    "    \n",
    "    history.append(new_state) # adding the new fresh state\n",
    "    history.pop(0) # deleting the oldest state"
   ]
  },
  {
   "cell_type": "markdown",
   "metadata": {},
   "source": [
    "# Simulation parameters and building"
   ]
  },
  {
   "cell_type": "code",
   "execution_count": null,
   "metadata": {},
   "outputs": [],
   "source": [
    "methods = [pseudo_spectral_wind,\n",
    "           wrap_advection_step_3P,wrap_wv,end_pop]\n",
    "\n",
    "methods_kwargs = [{},\n",
    "                  {'alpha_method' : 'damped_bicubic',\n",
    "                   'order_alpha' : 2, \n",
    "                   'F_method' : 'damped_bicubic'},\n",
    "                  {'alpha_method' : 'damped_bicubic',\n",
    "                   'order_alpha' : 2, \n",
    "                   'F_method' : 'damped_bicubic'},\n",
    "                  {}]\n",
    "\n",
    "output_folder = 'output_test'\n",
    "save_rate = 1\n",
    "backup_rate = 10\n",
    "verbose = 1 # displaying level, usefull to inspect what's going wrong"
   ]
  },
  {
   "cell_type": "code",
   "execution_count": null,
   "metadata": {},
   "outputs": [],
   "source": [
    "# Creation of the test case\n",
    "initialCDF = v_stripe_test('initial.nc', Lx, Ly, Nx, Ny, dt, nb_state, dX, dY)"
   ]
  },
  {
   "cell_type": "markdown",
   "metadata": {},
   "source": [
    "$\\textbf{New !}$\n",
    "T, Nt, save_rate, backup_rate are no more a Simulation object parameter. You give them when you run the simulation, it allows you to continue the simulation by running again with new parameters linked to the simulation time (the new run will start from the end of the previous one). You'll test it in few cells. \n",
    "methods_kwargs are now mandatory (source of bug when it was not) - there is an other option we'll discuss about it. If your methods doesn't except any argument, give a list of void dictionary with the same length as methods list."
   ]
  },
  {
   "cell_type": "code",
   "execution_count": null,
   "metadata": {},
   "outputs": [],
   "source": [
    "mySim = Simulation(initialCDF,\n",
    "                   methods, \n",
    "                   methods_kwargs,\n",
    "                   output_folder,\n",
    "                   verbose=verbose, \n",
    "                   name='testfb')"
   ]
  },
  {
   "cell_type": "markdown",
   "metadata": {},
   "source": [
    "The method run has a last argument (first_run default True). If first_run is True, the first and the last state will be saved (obviously some intermediate states too), if it is not, the first state won't be saved as it correspond to the last saved state (which is then already saved)."
   ]
  },
  {
   "cell_type": "code",
   "execution_count": null,
   "metadata": {},
   "outputs": [],
   "source": [
    "mySim.run(T, Nt, save_rate, backup_rate, first_run=True)"
   ]
  },
  {
   "cell_type": "markdown",
   "metadata": {},
   "source": [
    "### if you want to extend the simulation a little bit..."
   ]
  },
  {
   "cell_type": "markdown",
   "metadata": {},
   "source": [
    "We will extend the first run (2h of simulation) with a new one (5h)"
   ]
  },
  {
   "cell_type": "code",
   "execution_count": null,
   "metadata": {},
   "outputs": [],
   "source": [
    "T2 = 5*3600 \n",
    "Nt2 = int(T2//dt)\n",
    "save_rate = 2\n",
    "backup_rate = 5"
   ]
  },
  {
   "cell_type": "markdown",
   "metadata": {},
   "source": [
    "$\\textbf{Warning !}$ For recovery from backup purpose save_rate must divide backup_rate : check the return Exception"
   ]
  },
  {
   "cell_type": "code",
   "execution_count": null,
   "metadata": {},
   "outputs": [],
   "source": [
    "mySim.run(T2, Nt2, save_rate, backup_rate, first_run=False)"
   ]
  },
  {
   "cell_type": "markdown",
   "metadata": {},
   "source": [
    "### With compatible save/backup rates :"
   ]
  },
  {
   "cell_type": "markdown",
   "metadata": {},
   "source": [
    "$\\textbf{Try interrupting this run ! (interrupt the kernel during simulation)}$ You will see how to launch a new simulation from the backup file to continue the simulation later"
   ]
  },
  {
   "cell_type": "code",
   "execution_count": null,
   "metadata": {},
   "outputs": [],
   "source": [
    "save_rate = 2\n",
    "backup_rate = 6\n",
    "mySim.run(T2, Nt2, save_rate, backup_rate, first_run=False)"
   ]
  },
  {
   "cell_type": "markdown",
   "metadata": {},
   "source": [
    "# netCDF results can easily be analyzed..."
   ]
  },
  {
   "cell_type": "code",
   "execution_count": null,
   "metadata": {},
   "outputs": [],
   "source": [
    "from netCDF4 import Dataset\n",
    "import numpy as np"
   ]
  },
  {
   "cell_type": "code",
   "execution_count": null,
   "metadata": {},
   "outputs": [],
   "source": [
    "resultsCDF = Dataset('output_test/results_testfb.nc', 'r', format='NETCDF4', parallel=False)\n",
    "backupCDF = Dataset('output_test/backup_testfb.nc', 'r', format='NETCDF4', parallel=False)"
   ]
  },
  {
   "cell_type": "markdown",
   "metadata": {},
   "source": [
    "To see the saved times and the last backup time :"
   ]
  },
  {
   "cell_type": "code",
   "execution_count": null,
   "metadata": {},
   "outputs": [],
   "source": [
    "print(resultsCDF['t'][:].data)\n",
    "print(backupCDF['t'][:].data)"
   ]
  },
  {
   "cell_type": "markdown",
   "metadata": {},
   "source": [
    "To see the parameters of the different runs :"
   ]
  },
  {
   "cell_type": "code",
   "execution_count": null,
   "metadata": {},
   "outputs": [],
   "source": [
    "print(resultsCDF.T)\n",
    "print(resultsCDF.Nt)\n",
    "print(resultsCDF.save_rate)\n",
    "print(resultsCDF.backup_rate)"
   ]
  },
  {
   "cell_type": "markdown",
   "metadata": {},
   "source": [
    "Don't forget to close the datasets"
   ]
  },
  {
   "cell_type": "code",
   "execution_count": null,
   "metadata": {},
   "outputs": [],
   "source": [
    "resultsCDF.close()\n",
    "backupCDF.close()"
   ]
  },
  {
   "cell_type": "markdown",
   "metadata": {},
   "source": [
    "# <center>...and plotted !"
   ]
  },
  {
   "cell_type": "markdown",
   "metadata": {},
   "source": [
    "You will create an interactive object linked to a netCDF file (the result one). You can change the plotted variable, time and colormap. Don't worry it is re-opened and re-closed at each change you ask for so the file is not corrupted."
   ]
  },
  {
   "cell_type": "code",
   "execution_count": null,
   "metadata": {},
   "outputs": [],
   "source": [
    "from filament.display.interacting_plot import interactive_plot"
   ]
  },
  {
   "cell_type": "code",
   "execution_count": null,
   "metadata": {},
   "outputs": [],
   "source": [
    "inter = interactive_plot('output_test/results_testfb.nc')\n",
    "inter"
   ]
  },
  {
   "cell_type": "code",
   "execution_count": null,
   "metadata": {},
   "outputs": [],
   "source": [
    "from filament.display import animate"
   ]
  },
  {
   "cell_type": "code",
   "execution_count": null,
   "metadata": {},
   "outputs": [],
   "source": [
    "variable = 'Delta_z'\n",
    "\n",
    "# the CDF file results.nc stored in the output_folder is used to \n",
    "# generate a video saved in the output_folder\n",
    "animate.make_video(output_folder + '/results_testfb.nc', output_folder, variable)"
   ]
  },
  {
   "cell_type": "markdown",
   "metadata": {},
   "source": [
    "# Checking backup start"
   ]
  },
  {
   "cell_type": "markdown",
   "metadata": {},
   "source": [
    "If the last run has been interrupted, you'll see how to continue the simulation with the backup file and the result file (to copy the states saved from the beginning to the last backup). If the result file is corrupted or can't be used, you won't retrive the previous data, but if you're only interested in the end of the simulation you can begin the new run at the last backup thanks to this."
   ]
  },
  {
   "cell_type": "code",
   "execution_count": null,
   "metadata": {},
   "outputs": [],
   "source": [
    "backupCDF = Dataset(output_folder + '/backup_testfb.nc', 'r', format='NETCDF4', parallel=False)\n",
    "pre_resultCDF = Dataset(output_folder + '/results_testfb.nc', 'r', format='NETCDF4', parallel=False)"
   ]
  },
  {
   "cell_type": "code",
   "execution_count": null,
   "metadata": {},
   "outputs": [],
   "source": [
    "print(backupCDF.methods)"
   ]
  },
  {
   "cell_type": "code",
   "execution_count": null,
   "metadata": {},
   "outputs": [],
   "source": [
    "mySim_fromb = Simulation.frombackup(backupCDF,\n",
    "                                    methods,\n",
    "                                    methods_kwargs,\n",
    "                                    output_folder,\n",
    "                                    resultCDF=pre_resultCDF,\n",
    "                                    name='testfb_fb',\n",
    "                                    verbose=2)"
   ]
  },
  {
   "cell_type": "code",
   "execution_count": null,
   "metadata": {},
   "outputs": [],
   "source": [
    "mySim_fromb.run(#tocomplete,#tocomplete,2,6,first_run=True)"
   ]
  },
  {
   "cell_type": "code",
   "execution_count": null,
   "metadata": {},
   "outputs": [],
   "source": [
    "resultsCDF = Dataset(output_folder + '/results_testfb_fb.nc', 'r', format='NETCDF4', parallel=False)\n",
    "print(resultsCDF['t'][:].data)\n",
    "print(resultsCDF.T)\n",
    "print(resultsCDF.Nt)\n",
    "print(resultsCDF.save_rate)\n",
    "print(resultsCDF.backup_rate)\n",
    "resultsCDF.close()"
   ]
  },
  {
   "cell_type": "code",
   "execution_count": null,
   "metadata": {},
   "outputs": [],
   "source": [
    "previous_resultsCDF = Dataset(output_folder + '/results_testfb.nc', 'r', format='NETCDF4', parallel=False)\n",
    "print(previous_resultsCDF['t'][:].data)\n",
    "previous_resultsCDF.close()"
   ]
  },
  {
   "cell_type": "markdown",
   "metadata": {},
   "source": [
    "## Launching the all simulation in one go to verify the results"
   ]
  },
  {
   "cell_type": "code",
   "execution_count": null,
   "metadata": {},
   "outputs": [],
   "source": [
    "initialCDF = Dataset('initial.nc','r', format='NETCDF4', parallel=False)\n",
    "verbose=1\n",
    "mySim = Simulation(initialCDF,\n",
    "                   methods, \n",
    "                   methods_kwargs,\n",
    "                   output_folder,\n",
    "                   verbose=verbose,\n",
    "                   name='control')"
   ]
  },
  {
   "cell_type": "code",
   "execution_count": null,
   "metadata": {},
   "outputs": [],
   "source": [
    "T = 7*3600\n",
    "dt = 300\n",
    "Nt = int(T//dt)\n",
    "save_rate = 1\n",
    "backup_rate = 10\n",
    "\n",
    "mySim.run(T, Nt, save_rate, backup_rate, first_run=True)"
   ]
  },
  {
   "cell_type": "markdown",
   "metadata": {},
   "source": [
    "The two simulation does not have the exact same save_rate (since we changed from 1 to 2 between the first and second part of the first simulation). Keep it in mind while comparing the results"
   ]
  },
  {
   "cell_type": "code",
   "execution_count": null,
   "metadata": {},
   "outputs": [],
   "source": [
    "reference = Dataset(output_folder + '/results_control.nc', 'r', parallel=False)\n",
    "perturbed = Dataset(output_folder + '/results_testfb_fb.nc', 'r', parallel=False)"
   ]
  },
  {
   "cell_type": "code",
   "execution_count": null,
   "metadata": {},
   "outputs": [],
   "source": [
    "print(reference['t'][:].data)\n",
    "print(perturbed['t'][:].data)"
   ]
  },
  {
   "cell_type": "code",
   "execution_count": null,
   "metadata": {},
   "outputs": [],
   "source": [
    "k_per = 35\n",
    "t = perturbed['t'][k_per]\n",
    "k_ref = np.where(reference['t'][:].data == t)[0][0]\n",
    "\n",
    "print(\"t = {}\".format(t))\n",
    "print(\"k_ref = {}\".format(k_ref))"
   ]
  },
  {
   "cell_type": "code",
   "execution_count": null,
   "metadata": {},
   "outputs": [],
   "source": [
    "variable = 'theta_t'\n",
    "np.min(np.equal(perturbed[variable][:,:,k_per], reference[variable][:,:,k_ref]))"
   ]
  },
  {
   "cell_type": "markdown",
   "metadata": {},
   "source": [
    "True means that all the values (on the spatial grid) of the variable are equals at instant t"
   ]
  },
  {
   "cell_type": "code",
   "execution_count": null,
   "metadata": {},
   "outputs": [],
   "source": [
    "reference.close()\n",
    "perturbed.close()"
   ]
  }
 ],
 "metadata": {
  "kernelspec": {
   "display_name": "Python 3",
   "language": "python",
   "name": "python3"
  },
  "language_info": {
   "codemirror_mode": {
    "name": "ipython",
    "version": 3
   },
   "file_extension": ".py",
   "mimetype": "text/x-python",
   "name": "python",
   "nbconvert_exporter": "python",
   "pygments_lexer": "ipython3",
   "version": "3.7.6"
  }
 },
 "nbformat": 4,
 "nbformat_minor": 4
}
