{
 "cells": [
  {
   "cell_type": "markdown",
   "metadata": {},
   "source": [
    "# <center><span style=\"font-size: 50px; color: blue;\">ARCHITECTURE DEMO</span></center>\n",
    "\n",
    "<center><span style=\"font-size: 25px; color: purple;\">This notebook shows how to use our new architecture to perform a simulation</span></center>\n",
    "<p></p>\n",
    "\n",
    "<center><span style=\"font-size: 16px; color: black;\">Please make sure you installed our module named <b><i>filament<i/></b> by running the following commands in a terminal:</span></center>\n",
    "<p></p>\n",
    "\n",
    "<center><code style=\"font-size: 16px; color: green;\">$ cd PIE_meteo/arch/\n",
    "$ python setup.py install"
   ]
  },
  {
   "cell_type": "markdown",
   "metadata": {},
   "source": [
    "# Our module is named filament"
   ]
  },
  {
   "cell_type": "code",
   "execution_count": 1,
   "metadata": {},
   "outputs": [],
   "source": [
    "from filament.core.grid import Grid\n",
    "from filament.core.state import State\n",
    "from filament.core.simulation import Simulation\n",
    "from filament.test.test_cases import v_stripe_test, bubble_test, gaussian_test"
   ]
  },
  {
   "cell_type": "markdown",
   "metadata": {},
   "source": [
    "# Simulation parameters"
   ]
  },
  {
   "cell_type": "code",
   "execution_count": 2,
   "metadata": {},
   "outputs": [],
   "source": [
    "Lx = 2048\n",
    "Ly = 1024\n",
    "Nx = 256\n",
    "Ny = 128\n",
    "\n",
    "\n",
    "#T =48*3600 Complete simulation is very long\n",
    "dt = 10\n",
    "T = 51*dt\n",
    "Nt = T//dt\n",
    "\n",
    "\n",
    "dX = Nx//4  # used to shape the initial v-stripe data\n",
    "dY = Ny//4\n",
    "\n",
    "nb_state = 2  # number of instants in initial data"
   ]
  },
  {
   "cell_type": "markdown",
   "metadata": {},
   "source": [
    "# We import the scientific methods (Hi Olivier & Max)"
   ]
  },
  {
   "cell_type": "code",
   "execution_count": 3,
   "metadata": {},
   "outputs": [],
   "source": [
    "from filament.methods.pseudo_spectral_wind import pseudo_spectral_wind\n",
    "from filament.methods.wrap_advection_step_3P import wrap_advection_step_3P"
   ]
  },
  {
   "cell_type": "markdown",
   "metadata": {},
   "source": [
    "Your methods have just been wrapped in such a way it fits our architechture, here is an example of a stupid method. Nothing of scientific, but you can see its signature, and basically understand how we expect a method to interact with data."
   ]
  },
  {
   "cell_type": "code",
   "execution_count": 4,
   "metadata": {},
   "outputs": [],
   "source": [
    "def stupid_method(history, verbose, *args, **kwargs):\n",
    "    last_state = history.state_list[-1]\n",
    "    \n",
    "    new_state = State.copy(last_state)\n",
    "    new_state.t += dt\n",
    "    \n",
    "    print(new_state.t) if verbose else None\n",
    "    \n",
    "    new_state.vrs['theta_t'][int(new_state.t) % Nx, int(new_state.t) % Ny] = 1 # yes it is stupid\n",
    "    \n",
    "    history.append(new_state) # adding the new fresh state\n",
    "    history.pop(0) # deleting the oldest state"
   ]
  },
  {
   "cell_type": "markdown",
   "metadata": {},
   "source": [
    "# Simulation parameters and building"
   ]
  },
  {
   "cell_type": "code",
   "execution_count": 5,
   "metadata": {},
   "outputs": [],
   "source": [
    "methods = [pseudo_spectral_wind,\n",
    "           wrap_advection_step_3P]\n",
    "\n",
    "methods_kwargs = [{},\n",
    "                  {'alpha_method' : 'mix',\n",
    "                   'order_alpha' : 2, \n",
    "                   'F_method' : 'bicubic'}]\n",
    "\n",
    "output_folder = 'output_test'\n",
    "save_rate = 1\n",
    "backup_rate = 10\n",
    "verbose = 2 # displaying level, usefull to inspect what's going wrong\n",
    "\n",
    "initialCDF = v_stripe_test('initial.nc', Lx, Ly, Nx, Ny, dt, nb_state, dX, dY)"
   ]
  },
  {
   "cell_type": "code",
   "execution_count": 6,
   "metadata": {},
   "outputs": [],
   "source": [
    "mySim = Simulation(initialCDF,\n",
    "                   T, Nt, \n",
    "                   methods, \n",
    "                   output_folder, \n",
    "                   save_rate, \n",
    "                   backup_rate, \n",
    "                   verbose,\n",
    "                   methods_kwargs)"
   ]
  },
  {
   "cell_type": "code",
   "execution_count": 7,
   "metadata": {},
   "outputs": [
    {
     "name": "stdout",
     "output_type": "stream",
     "text": [
      "          ------------------------\n",
      "          |  RUNNING SIMULATION  |\n",
      "          ------------------------\n",
      "\n",
      "\n",
      "Iteration  0 ...\n",
      "---> backup refreshed at iteration 0\n",
      "---> saved results of iteration 0\n",
      "      *** Proceeding to method: pseudo_spectral_wind\n",
      "      *** CPU time =  1.2663671970367432  seconds\n",
      "      *** Proceeding to method: wrap_advection_step_3P\n",
      "      *** CPU time =  10.961188077926636  seconds\n",
      "\n",
      "\n",
      "Iteration  1 ...\n",
      "---> saved results of iteration 1\n",
      "      *** Proceeding to method: pseudo_spectral_wind\n",
      "      *** CPU time =  1.3644776344299316  seconds\n",
      "      *** Proceeding to method: wrap_advection_step_3P\n",
      "      *** CPU time =  10.763805627822876  seconds\n",
      "\n",
      "\n",
      "Total CPU time for method  pseudo_spectral_wind  =  2.630844831466675  seconds\n",
      "Mean CPU time for method  pseudo_spectral_wind  per call =  1.3154224157333374  seconds\n",
      "\n",
      "\n",
      "Total CPU time for method  wrap_advection_step_3P  =  21.72499370574951  seconds\n",
      "Mean CPU time for method  wrap_advection_step_3P  per call =  10.862496852874756  seconds\n"
     ]
    }
   ],
   "source": [
    "mySim.run()"
   ]
  },
  {
   "cell_type": "markdown",
   "metadata": {},
   "source": [
    "# netCDF results can easily be analyzed..."
   ]
  },
  {
   "cell_type": "code",
   "execution_count": 8,
   "metadata": {},
   "outputs": [
    {
     "data": {
      "text/plain": [
       "{'T': 20,\n",
       " 'Lx': 2048,\n",
       " 'Ly': 1024,\n",
       " 'Nx': 256,\n",
       " 'Ny': 128,\n",
       " 'dx': 8.0,\n",
       " 'dy': 8.0,\n",
       " 'z_star': -500,\n",
       " 'gamma_1': -0.004,\n",
       " 'gamma_2': -0.0085,\n",
       " 'Delta_zc': 500,\n",
       " 'Delta_Tc': -5,\n",
       " 'g': 9.81,\n",
       " 'N_t': 0.01,\n",
       " 'N_s': 0.02,\n",
       " 'theta_00': 300}"
      ]
     },
     "execution_count": 8,
     "metadata": {},
     "output_type": "execute_result"
    }
   ],
   "source": [
    "from netCDF4 import Dataset\n",
    "resultsCDF = Dataset(output_folder + '/results.nc', 'r', format='NETCDF4', parallel=False)\n",
    "resultsCDF.__dict__"
   ]
  },
  {
   "cell_type": "code",
   "execution_count": 9,
   "metadata": {},
   "outputs": [
    {
     "data": {
      "text/plain": [
       "array([ 0., 10.])"
      ]
     },
     "execution_count": 9,
     "metadata": {},
     "output_type": "execute_result"
    }
   ],
   "source": [
    "resultsCDF['t'][:].data"
   ]
  },
  {
   "cell_type": "code",
   "execution_count": 10,
   "metadata": {},
   "outputs": [],
   "source": [
    "resultsCDF.close()"
   ]
  },
  {
   "cell_type": "markdown",
   "metadata": {},
   "source": [
    "# <center>...and plotted !"
   ]
  },
  {
   "cell_type": "code",
   "execution_count": null,
   "metadata": {},
   "outputs": [],
   "source": [
    "from filament.display import animate"
   ]
  },
  {
   "cell_type": "code",
   "execution_count": null,
   "metadata": {},
   "outputs": [],
   "source": [
    "variable = 'theta_t'\n",
    "\n",
    "# the CDF file results.nc stored in the output_folder is used to \n",
    "# generate a video saved in the output_folder\n",
    "animate.make_video(output_folder + '/results.nc', output_folder, variable)"
   ]
  },
  {
   "cell_type": "markdown",
   "metadata": {},
   "source": [
    "# <center>N'Joy"
   ]
  },
  {
   "cell_type": "markdown",
   "metadata": {},
   "source": [
    "## To do :\n",
    "- plots (both during and after computation)\n",
    "- w vertwind use in wrap_advection_3P\n",
    "- WV\n",
    "- check if we can start back from our backup file --> OK"
   ]
  },
  {
   "cell_type": "markdown",
   "metadata": {},
   "source": [
    "# Checking backup start"
   ]
  },
  {
   "cell_type": "code",
   "execution_count": 16,
   "metadata": {},
   "outputs": [],
   "source": [
    "T = 11*dt\n",
    "Nt = T//dt\n",
    "\n",
    "output_frombckp_folder = 'output_frombckp_test'\n",
    "backupCDF = Dataset(output_folder + '/backup.nc', 'r', format='NETCDF4', parallel=False)\n",
    "\n",
    "mySim = Simulation(backupCDF,\n",
    "                   T, Nt, \n",
    "                   methods, \n",
    "                   output_frombckp_folder, \n",
    "                   save_rate, \n",
    "                   backup_rate, \n",
    "                   verbose,\n",
    "                   methods_kwargs)"
   ]
  },
  {
   "cell_type": "code",
   "execution_count": 17,
   "metadata": {},
   "outputs": [
    {
     "name": "stdout",
     "output_type": "stream",
     "text": [
      "          ------------------------\n",
      "          |  RUNNING SIMULATION  |\n",
      "          ------------------------\n",
      "\n",
      "\n",
      "Iteration  0 ...\n",
      "---> backup refreshed at iteration 0\n",
      "---> saved results of iteration 0\n",
      "      *** Proceeding to method: pseudo_spectral_wind\n",
      "      *** CPU time =  0.8147599697113037  seconds\n",
      "      *** Proceeding to method: wrap_advection_step_3P\n",
      "      *** CPU time =  5.4273457527160645  seconds\n",
      "\n",
      "\n",
      "Iteration  1 ...\n",
      "---> saved results of iteration 1\n",
      "      *** Proceeding to method: pseudo_spectral_wind\n",
      "      *** CPU time =  0.7620131969451904  seconds\n",
      "      *** Proceeding to method: wrap_advection_step_3P\n",
      "      *** CPU time =  5.567528486251831  seconds\n",
      "\n",
      "\n",
      "Iteration  2 ...\n",
      "---> saved results of iteration 2\n",
      "      *** Proceeding to method: pseudo_spectral_wind\n",
      "      *** CPU time =  0.7682225704193115  seconds\n",
      "      *** Proceeding to method: wrap_advection_step_3P\n",
      "      *** CPU time =  5.374237775802612  seconds\n",
      "\n",
      "\n",
      "Iteration  3 ...\n",
      "---> saved results of iteration 3\n",
      "      *** Proceeding to method: pseudo_spectral_wind\n",
      "      *** CPU time =  0.7395405769348145  seconds\n",
      "      *** Proceeding to method: wrap_advection_step_3P\n",
      "      *** CPU time =  5.611912727355957  seconds\n",
      "\n",
      "\n",
      "Iteration  4 ...\n",
      "---> saved results of iteration 4\n",
      "      *** Proceeding to method: pseudo_spectral_wind\n",
      "      *** CPU time =  0.7303392887115479  seconds\n",
      "      *** Proceeding to method: wrap_advection_step_3P\n",
      "      *** CPU time =  5.299594879150391  seconds\n",
      "\n",
      "\n",
      "Iteration  5 ...\n",
      "---> saved results of iteration 5\n",
      "      *** Proceeding to method: pseudo_spectral_wind\n",
      "      *** CPU time =  0.7362382411956787  seconds\n",
      "      *** Proceeding to method: wrap_advection_step_3P\n",
      "      *** CPU time =  5.57555890083313  seconds\n",
      "\n",
      "\n",
      "Iteration  6 ...\n",
      "---> saved results of iteration 6\n",
      "      *** Proceeding to method: pseudo_spectral_wind\n",
      "      *** CPU time =  0.7437214851379395  seconds\n",
      "      *** Proceeding to method: wrap_advection_step_3P\n",
      "      *** CPU time =  5.800877094268799  seconds\n",
      "\n",
      "\n",
      "Iteration  7 ...\n",
      "---> saved results of iteration 7\n",
      "      *** Proceeding to method: pseudo_spectral_wind\n",
      "      *** CPU time =  0.7841310501098633  seconds\n",
      "      *** Proceeding to method: wrap_advection_step_3P\n",
      "      *** CPU time =  5.610082626342773  seconds\n",
      "\n",
      "\n",
      "Iteration  8 ...\n",
      "---> saved results of iteration 8\n",
      "      *** Proceeding to method: pseudo_spectral_wind\n",
      "      *** CPU time =  0.7733032703399658  seconds\n",
      "      *** Proceeding to method: wrap_advection_step_3P\n",
      "      *** CPU time =  5.694297790527344  seconds\n",
      "\n",
      "\n",
      "Iteration  9 ...\n",
      "---> saved results of iteration 9\n",
      "      *** Proceeding to method: pseudo_spectral_wind\n",
      "      *** CPU time =  0.7891299724578857  seconds\n",
      "      *** Proceeding to method: wrap_advection_step_3P\n",
      "      *** CPU time =  5.810882568359375  seconds\n",
      "\n",
      "\n",
      "Iteration  10 ...\n",
      "---> backup refreshed at iteration 10\n",
      "---> saved results of iteration 10\n",
      "      *** Proceeding to method: pseudo_spectral_wind\n",
      "      *** CPU time =  0.7558622360229492  seconds\n",
      "      *** Proceeding to method: wrap_advection_step_3P\n",
      "      *** CPU time =  5.765170335769653  seconds\n",
      "\n",
      "\n",
      "Total CPU time for method  pseudo_spectral_wind  =  8.39726185798645  seconds\n",
      "Mean CPU time for method  pseudo_spectral_wind  per call =  0.7633874416351318  seconds\n",
      "\n",
      "\n",
      "Total CPU time for method  wrap_advection_step_3P  =  61.53748893737793  seconds\n",
      "Mean CPU time for method  wrap_advection_step_3P  per call =  5.594317176125267  seconds\n"
     ]
    }
   ],
   "source": [
    "mySim.run()"
   ]
  },
  {
   "cell_type": "code",
   "execution_count": null,
   "metadata": {},
   "outputs": [],
   "source": []
  }
 ],
 "metadata": {
  "kernelspec": {
   "display_name": "Python 3",
   "language": "python",
   "name": "python3"
  },
  "language_info": {
   "codemirror_mode": {
    "name": "ipython",
    "version": 3
   },
   "file_extension": ".py",
   "mimetype": "text/x-python",
   "name": "python",
   "nbconvert_exporter": "python",
   "pygments_lexer": "ipython3",
   "version": "3.7.6"
  }
 },
 "nbformat": 4,
 "nbformat_minor": 4
}
