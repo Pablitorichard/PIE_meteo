{
 "cells": [
  {
   "cell_type": "markdown",
   "metadata": {},
   "source": [
    "# <center><span style=\"font-size: 50px; color: blue;\">ARCHITECTURE DEMO</span></center>\n",
    "\n",
    "<center><span style=\"font-size: 25px; color: purple;\">This notebook shows how to use our new architecture to perform a simulation</span></center>\n",
    "<p></p>\n",
    "\n",
    "<center><span style=\"font-size: 16px; color: black;\">Please make sure you installed our module named <b><i>filament<i/></b> by running the following commands in a terminal:</span></center>\n",
    "<p></p>\n",
    "\n",
    "<center><code style=\"font-size: 16px; color: green;\">$ cd PIE_meteo/arch/\n",
    "$ python setup.py install"
   ]
  },
  {
   "cell_type": "markdown",
   "metadata": {},
   "source": [
    "# Our module is named filament"
   ]
  },
  {
   "cell_type": "code",
   "execution_count": 1,
   "metadata": {},
   "outputs": [],
   "source": [
    "from filament.core.grid import Grid\n",
    "from filament.core.state import State\n",
    "from filament.core.simulation import Simulation\n",
    "from filament.test.test_cases import v_stripe_test, bubble_test, gaussian_test"
   ]
  },
  {
   "cell_type": "markdown",
   "metadata": {},
   "source": [
    "# Simulation parameters"
   ]
  },
  {
   "cell_type": "code",
   "execution_count": 2,
   "metadata": {},
   "outputs": [],
   "source": [
    "Lx = 2048\n",
    "Ly = 1024\n",
    "Nx = 256\n",
    "Ny = 128\n",
    "\n",
    "\n",
    "#T =48*3600 Complete simulation is very long\n",
    "dt = 10\n",
    "T = 51*dt\n",
    "Nt = T//dt\n",
    "\n",
    "\n",
    "dX = Nx//4  # used to shape the initial v-stripe data\n",
    "dY = Ny//4\n",
    "\n",
    "nb_state = 2  # number of instants in initial data"
   ]
  },
  {
   "cell_type": "markdown",
   "metadata": {},
   "source": [
    "# We import the scientific methods (Hi Olivier & Max)"
   ]
  },
  {
   "cell_type": "code",
   "execution_count": 3,
   "metadata": {},
   "outputs": [],
   "source": [
    "from filament.methods.pseudo_spectral_wind import pseudo_spectral_wind\n",
    "from filament.methods.wrap_advection_step_3P import wrap_advection_step_3P"
   ]
  },
  {
   "cell_type": "markdown",
   "metadata": {},
   "source": [
    "Your methods have just been wrapped in such a way it fits our architechture, here is an example of a stupid method. Nothing of scientific, but you can see its signature, and basically understand how we expect a method to interact with data."
   ]
  },
  {
   "cell_type": "code",
   "execution_count": 4,
   "metadata": {},
   "outputs": [],
   "source": [
    "def stupid_method(history, verbose, *args, **kwargs):\n",
    "    last_state = history.state_list[-1]\n",
    "    \n",
    "    new_state = State.copy(last_state)\n",
    "    new_state.t += dt\n",
    "    \n",
    "    print(new_state.t) if verbose else None\n",
    "    \n",
    "    new_state.vrs['theta_t'][int(new_state.t) % Nx, int(new_state.t) % Ny] = 1 # yes it is stupid\n",
    "    \n",
    "    history.append(new_state) # adding the new fresh state\n",
    "    history.pop(0) # deleting the oldest state"
   ]
  },
  {
   "cell_type": "markdown",
   "metadata": {},
   "source": [
    "# Simulation parameters and building"
   ]
  },
  {
   "cell_type": "code",
   "execution_count": 5,
   "metadata": {},
   "outputs": [],
   "source": [
    "methods = [pseudo_spectral_wind,\n",
    "           wrap_advection_step_3P]\n",
    "\n",
    "methods_kwargs = [{},\n",
    "                  {'alpha_method' : 'mix',\n",
    "                   'order_alpha' : 2, \n",
    "                   'F_method' : 'bicubic'}]\n",
    "\n",
    "output_folder = 'output_test'\n",
    "save_rate = 1\n",
    "backup_rate = 10\n",
    "verbose = 2 # displaying level, usefull to inspect what's going wrong\n",
    "\n",
    "initialCDF = v_stripe_test('initial.nc', Lx, Ly, Nx, Ny, dt, nb_state, dX, dY)"
   ]
  },
  {
   "cell_type": "code",
   "execution_count": 6,
   "metadata": {},
   "outputs": [],
   "source": [
    "mySim = Simulation(initialCDF,\n",
    "                   T, Nt, \n",
    "                   methods, \n",
    "                   output_folder, \n",
    "                   save_rate, \n",
    "                   backup_rate, \n",
    "                   verbose,\n",
    "                   methods_kwargs)"
   ]
  },
  {
   "cell_type": "code",
   "execution_count": 7,
   "metadata": {},
   "outputs": [
    {
     "name": "stdout",
     "output_type": "stream",
     "text": [
      "          ------------------------\n",
      "          |  RUNNING SIMULATION  |\n",
      "          ------------------------\n",
      "\n",
      "\n",
      "Iteration  0 ...\n",
      "---> backup refreshed at iteration 0\n",
      "---> saved results of iteration 0\n",
      "      *** Proceeding to method: pseudo_spectral_wind\n",
      "      *** CPU time = 0.88  seconds\n",
      "      *** Proceeding to method: wrap_advection_step_3P\n",
      "      *** CPU time = 5.53  seconds\n",
      "\n",
      "\n",
      "Iteration  1 ...\n",
      "---> saved results of iteration 1\n",
      "      *** Proceeding to method: pseudo_spectral_wind\n",
      "      *** CPU time = 0.76  seconds\n",
      "      *** Proceeding to method: wrap_advection_step_3P\n",
      "      *** CPU time = 5.55  seconds\n",
      "\n",
      "\n",
      "Iteration  2 ...\n",
      "---> saved results of iteration 2\n",
      "      *** Proceeding to method: pseudo_spectral_wind\n",
      "      *** CPU time = 0.78  seconds\n",
      "      *** Proceeding to method: wrap_advection_step_3P\n",
      "      *** CPU time = 5.36  seconds\n",
      "\n",
      "\n",
      "Iteration  3 ...\n",
      "---> saved results of iteration 3\n",
      "      *** Proceeding to method: pseudo_spectral_wind\n",
      "      *** CPU time = 0.74  seconds\n",
      "      *** Proceeding to method: wrap_advection_step_3P\n",
      "      *** CPU time = 6.49  seconds\n",
      "\n",
      "\n",
      "Iteration  4 ...\n",
      "---> saved results of iteration 4\n",
      "      *** Proceeding to method: pseudo_spectral_wind\n",
      "      *** CPU time = 0.74  seconds\n",
      "      *** Proceeding to method: wrap_advection_step_3P\n",
      "      *** CPU time = 5.59  seconds\n",
      "\n",
      "\n",
      "Iteration  5 ...\n",
      "---> saved results of iteration 5\n",
      "      *** Proceeding to method: pseudo_spectral_wind\n",
      "      *** CPU time = 0.77  seconds\n",
      "      *** Proceeding to method: wrap_advection_step_3P\n",
      "      *** CPU time = 5.71  seconds\n",
      "\n",
      "\n",
      "Iteration  6 ...\n",
      "---> saved results of iteration 6\n",
      "      *** Proceeding to method: pseudo_spectral_wind\n",
      "      *** CPU time = 0.77  seconds\n",
      "      *** Proceeding to method: wrap_advection_step_3P\n",
      "      *** CPU time = 5.27  seconds\n",
      "\n",
      "\n",
      "Iteration  7 ...\n",
      "---> saved results of iteration 7\n",
      "      *** Proceeding to method: pseudo_spectral_wind\n",
      "      *** CPU time = 0.77  seconds\n",
      "      *** Proceeding to method: wrap_advection_step_3P\n",
      "      *** CPU time = 5.24  seconds\n",
      "\n",
      "\n",
      "Iteration  8 ...\n",
      "---> saved results of iteration 8\n",
      "      *** Proceeding to method: pseudo_spectral_wind\n",
      "      *** CPU time = 0.77  seconds\n",
      "      *** Proceeding to method: wrap_advection_step_3P\n",
      "      *** CPU time = 5.36  seconds\n",
      "\n",
      "\n",
      "Iteration  9 ...\n",
      "---> saved results of iteration 9\n",
      "      *** Proceeding to method: pseudo_spectral_wind\n",
      "      *** CPU time = 0.77  seconds\n",
      "      *** Proceeding to method: wrap_advection_step_3P\n",
      "      *** CPU time = 5.29  seconds\n",
      "\n",
      "\n",
      "Iteration  10 ...\n",
      "---> backup refreshed at iteration 10\n",
      "---> saved results of iteration 10\n",
      "      *** Proceeding to method: pseudo_spectral_wind\n",
      "      *** CPU time = 0.79  seconds\n",
      "      *** Proceeding to method: wrap_advection_step_3P\n",
      "      *** CPU time = 5.84  seconds\n",
      "\n",
      "\n",
      "Iteration  11 ...\n",
      "---> saved results of iteration 11\n",
      "      *** Proceeding to method: pseudo_spectral_wind\n",
      "      *** CPU time = 0.89  seconds\n",
      "      *** Proceeding to method: wrap_advection_step_3P\n",
      "      *** CPU time = 5.84  seconds\n",
      "\n",
      "\n",
      "Iteration  12 ...\n",
      "---> saved results of iteration 12\n",
      "      *** Proceeding to method: pseudo_spectral_wind\n",
      "      *** CPU time = 0.75  seconds\n",
      "      *** Proceeding to method: wrap_advection_step_3P\n",
      "      *** CPU time = 6.75  seconds\n",
      "\n",
      "\n",
      "Iteration  13 ...\n",
      "---> saved results of iteration 13\n",
      "      *** Proceeding to method: pseudo_spectral_wind\n",
      "      *** CPU time = 0.78  seconds\n",
      "      *** Proceeding to method: wrap_advection_step_3P\n"
     ]
    },
    {
     "ename": "KeyboardInterrupt",
     "evalue": "",
     "output_type": "error",
     "traceback": [
      "\u001b[0;31m---------------------------------------------------------------------------\u001b[0m",
      "\u001b[0;31mKeyboardInterrupt\u001b[0m                         Traceback (most recent call last)",
      "\u001b[0;32m<ipython-input-7-5ae137631621>\u001b[0m in \u001b[0;36m<module>\u001b[0;34m\u001b[0m\n\u001b[0;32m----> 1\u001b[0;31m \u001b[0mmySim\u001b[0m\u001b[0;34m.\u001b[0m\u001b[0mrun\u001b[0m\u001b[0;34m(\u001b[0m\u001b[0;34m)\u001b[0m\u001b[0;34m\u001b[0m\u001b[0;34m\u001b[0m\u001b[0m\n\u001b[0m",
      "\u001b[0;32m~/miniconda3/envs/py37/lib/python3.7/site-packages/filament-0.1.0-py3.7.egg/filament/core/simulation.py\u001b[0m in \u001b[0;36mrun\u001b[0;34m(self)\u001b[0m\n\u001b[1;32m     67\u001b[0m \u001b[0;34m\u001b[0m\u001b[0m\n\u001b[1;32m     68\u001b[0m             \u001b[0;31m# then perform forward\u001b[0m\u001b[0;34m\u001b[0m\u001b[0;34m\u001b[0m\u001b[0;34m\u001b[0m\u001b[0m\n\u001b[0;32m---> 69\u001b[0;31m             \u001b[0mcpu_time\u001b[0m \u001b[0;34m=\u001b[0m \u001b[0mself\u001b[0m\u001b[0;34m.\u001b[0m\u001b[0mforward\u001b[0m\u001b[0;34m(\u001b[0m\u001b[0;34m)\u001b[0m\u001b[0;34m\u001b[0m\u001b[0;34m\u001b[0m\u001b[0m\n\u001b[0m\u001b[1;32m     70\u001b[0m             \u001b[0mcpu_tot_time\u001b[0m \u001b[0;34m+=\u001b[0m \u001b[0mcpu_time\u001b[0m\u001b[0;34m\u001b[0m\u001b[0;34m\u001b[0m\u001b[0m\n\u001b[1;32m     71\u001b[0m \u001b[0;34m\u001b[0m\u001b[0m\n",
      "\u001b[0;32m~/miniconda3/envs/py37/lib/python3.7/site-packages/filament-0.1.0-py3.7.egg/filament/core/simulation.py\u001b[0m in \u001b[0;36mforward\u001b[0;34m(self)\u001b[0m\n\u001b[1;32m     80\u001b[0m             \u001b[0mt0\u001b[0m \u001b[0;34m=\u001b[0m \u001b[0mtime\u001b[0m\u001b[0;34m.\u001b[0m\u001b[0mtime\u001b[0m\u001b[0;34m(\u001b[0m\u001b[0;34m)\u001b[0m\u001b[0;34m\u001b[0m\u001b[0;34m\u001b[0m\u001b[0m\n\u001b[1;32m     81\u001b[0m             \u001b[0mprint\u001b[0m\u001b[0;34m(\u001b[0m\u001b[0;34m\"      *** Proceeding to method: \"\u001b[0m\u001b[0;34m+\u001b[0m\u001b[0mmethod\u001b[0m\u001b[0;34m.\u001b[0m\u001b[0m__name__\u001b[0m\u001b[0;34m)\u001b[0m \u001b[0;32mif\u001b[0m \u001b[0mself\u001b[0m\u001b[0;34m.\u001b[0m\u001b[0mverbose\u001b[0m \u001b[0;34m>\u001b[0m \u001b[0;36m1\u001b[0m \u001b[0;32melse\u001b[0m \u001b[0;32mNone\u001b[0m\u001b[0;34m\u001b[0m\u001b[0;34m\u001b[0m\u001b[0m\n\u001b[0;32m---> 82\u001b[0;31m             \u001b[0mmethod\u001b[0m\u001b[0;34m(\u001b[0m\u001b[0;34m**\u001b[0m\u001b[0mself\u001b[0m\u001b[0;34m.\u001b[0m\u001b[0m__dict__\u001b[0m\u001b[0;34m,\u001b[0m \u001b[0;34m**\u001b[0m\u001b[0mkwargs\u001b[0m\u001b[0;34m)\u001b[0m\u001b[0;34m\u001b[0m\u001b[0;34m\u001b[0m\u001b[0m\n\u001b[0m\u001b[1;32m     83\u001b[0m             \u001b[0mcpu_time\u001b[0m\u001b[0;34m[\u001b[0m\u001b[0mind\u001b[0m\u001b[0;34m]\u001b[0m \u001b[0;34m=\u001b[0m \u001b[0mtime\u001b[0m\u001b[0;34m.\u001b[0m\u001b[0mtime\u001b[0m\u001b[0;34m(\u001b[0m\u001b[0;34m)\u001b[0m \u001b[0;34m-\u001b[0m \u001b[0mt0\u001b[0m\u001b[0;34m\u001b[0m\u001b[0;34m\u001b[0m\u001b[0m\n\u001b[1;32m     84\u001b[0m             \u001b[0mprint\u001b[0m\u001b[0;34m(\u001b[0m\u001b[0;34m\"      *** CPU time = {:.2f}\"\u001b[0m\u001b[0;34m.\u001b[0m\u001b[0mformat\u001b[0m\u001b[0;34m(\u001b[0m\u001b[0mcpu_time\u001b[0m\u001b[0;34m[\u001b[0m\u001b[0mind\u001b[0m\u001b[0;34m]\u001b[0m\u001b[0;34m)\u001b[0m\u001b[0;34m,\u001b[0m \u001b[0;34m\" seconds\"\u001b[0m\u001b[0;34m)\u001b[0m \u001b[0;32mif\u001b[0m \u001b[0mself\u001b[0m\u001b[0;34m.\u001b[0m\u001b[0mverbose\u001b[0m \u001b[0;34m>\u001b[0m \u001b[0;36m1\u001b[0m \u001b[0;32melse\u001b[0m \u001b[0;32mNone\u001b[0m\u001b[0;34m\u001b[0m\u001b[0;34m\u001b[0m\u001b[0m\n",
      "\u001b[0;32m~/miniconda3/envs/py37/lib/python3.7/site-packages/filament-0.1.0-py3.7.egg/filament/methods/wrap_advection_step_3P.py\u001b[0m in \u001b[0;36mwrap_advection_step_3P\u001b[0;34m(history, grid, params, alpha_method, order_alpha, F_method, verbose, **kwargs)\u001b[0m\n\u001b[1;32m     25\u001b[0m                                               \u001b[0morder_alpha\u001b[0m\u001b[0;34m,\u001b[0m\u001b[0;34m\u001b[0m\u001b[0;34m\u001b[0m\u001b[0m\n\u001b[1;32m     26\u001b[0m                                               \u001b[0mF_method\u001b[0m\u001b[0;34m,\u001b[0m\u001b[0;34m\u001b[0m\u001b[0;34m\u001b[0m\u001b[0m\n\u001b[0;32m---> 27\u001b[0;31m                                               verbose)\n\u001b[0m\u001b[1;32m     28\u001b[0m     \u001b[0mprint\u001b[0m\u001b[0;34m(\u001b[0m\u001b[0;34m\"      ut vt done\"\u001b[0m\u001b[0;34m)\u001b[0m \u001b[0;32mif\u001b[0m \u001b[0mverbose\u001b[0m \u001b[0;34m>\u001b[0m \u001b[0;36m2\u001b[0m \u001b[0;32melse\u001b[0m \u001b[0;32mNone\u001b[0m\u001b[0;34m\u001b[0m\u001b[0;34m\u001b[0m\u001b[0m\n\u001b[1;32m     29\u001b[0m     a_us, a_vs, dz_new = advection_step_3P(pre_state.vrs['alpha_us'],\n",
      "\u001b[0;32m~/miniconda3/envs/py37/lib/python3.7/site-packages/filament-0.1.0-py3.7.egg/filament/methods/advection_step_3P.py\u001b[0m in \u001b[0;36madvection_step_3P\u001b[0;34m(alpha_u_minus, alpha_v_minus, field_minus, dt, u, v, dx, dy, alpha_method, order_alpha, F_method, verbose)\u001b[0m\n\u001b[1;32m     44\u001b[0m     \u001b[0;31m# time tk -dt at the locations x - 2* alpha.\u001b[0m\u001b[0;34m\u001b[0m\u001b[0;34m\u001b[0m\u001b[0;34m\u001b[0m\u001b[0m\n\u001b[1;32m     45\u001b[0m     field_plus = upstream_interp(2*alpha_u, 2*alpha_v, field_minus,\n\u001b[0;32m---> 46\u001b[0;31m                                  method=F_method, verbose=verbose)\n\u001b[0m\u001b[1;32m     47\u001b[0m \u001b[0;34m\u001b[0m\u001b[0m\n\u001b[1;32m     48\u001b[0m     \u001b[0;32mreturn\u001b[0m \u001b[0malpha_u\u001b[0m\u001b[0;34m,\u001b[0m \u001b[0malpha_v\u001b[0m\u001b[0;34m,\u001b[0m \u001b[0mfield_plus\u001b[0m\u001b[0;34m\u001b[0m\u001b[0;34m\u001b[0m\u001b[0m\n",
      "\u001b[0;32m~/miniconda3/envs/py37/lib/python3.7/site-packages/filament-0.1.0-py3.7.egg/filament/methods/upstream_interp.py\u001b[0m in \u001b[0;36mupstream_interp\u001b[0;34m(alpha_x, alpha_y, F, method, verbose)\u001b[0m\n\u001b[1;32m    234\u001b[0m                      a22[:, xf, yf] * yb**2 + a23[:, xf, yf] * yb**3) * xb**2 +\\\n\u001b[1;32m    235\u001b[0m                     (a30[:, xf, yf] + a31[:, xf, yf] * yb +\\\n\u001b[0;32m--> 236\u001b[0;31m                      a32[:, xf, yf] * yb**2 + a33[:, xf, yf] * yb**3) * xb**3 \n\u001b[0m\u001b[1;32m    237\u001b[0m     \u001b[0;32melse\u001b[0m\u001b[0;34m:\u001b[0m\u001b[0;34m\u001b[0m\u001b[0;34m\u001b[0m\u001b[0m\n\u001b[1;32m    238\u001b[0m         \u001b[0;32mraise\u001b[0m \u001b[0;34m\"Unkwon method for interpolation: \"\u001b[0m \u001b[0;34m+\u001b[0m \u001b[0mmethod\u001b[0m\u001b[0;34m\u001b[0m\u001b[0;34m\u001b[0m\u001b[0m\n",
      "\u001b[0;31mKeyboardInterrupt\u001b[0m: "
     ]
    }
   ],
   "source": [
    "mySim.run()"
   ]
  },
  {
   "cell_type": "markdown",
   "metadata": {},
   "source": [
    "# netCDF results can easily be analyzed..."
   ]
  },
  {
   "cell_type": "code",
   "execution_count": 8,
   "metadata": {},
   "outputs": [
    {
     "data": {
      "text/plain": [
       "{'T': 20,\n",
       " 'Lx': 2048,\n",
       " 'Ly': 1024,\n",
       " 'Nx': 256,\n",
       " 'Ny': 128,\n",
       " 'dx': 8.0,\n",
       " 'dy': 8.0,\n",
       " 'z_star': -500,\n",
       " 'gamma_1': -0.004,\n",
       " 'gamma_2': -0.0085,\n",
       " 'Delta_zc': 500,\n",
       " 'Delta_Tc': -5,\n",
       " 'g': 9.81,\n",
       " 'N_t': 0.01,\n",
       " 'N_s': 0.02,\n",
       " 'theta_00': 300}"
      ]
     },
     "execution_count": 8,
     "metadata": {},
     "output_type": "execute_result"
    }
   ],
   "source": [
    "from netCDF4 import Dataset\n",
    "resultsCDF = Dataset(output_folder + '/results.nc', 'r', format='NETCDF4', parallel=False)\n",
    "resultsCDF.__dict__"
   ]
  },
  {
   "cell_type": "code",
   "execution_count": 9,
   "metadata": {},
   "outputs": [
    {
     "data": {
      "text/plain": [
       "array([ 0., 10.])"
      ]
     },
     "execution_count": 9,
     "metadata": {},
     "output_type": "execute_result"
    }
   ],
   "source": [
    "resultsCDF['t'][:].data"
   ]
  },
  {
   "cell_type": "code",
   "execution_count": 10,
   "metadata": {},
   "outputs": [],
   "source": [
    "resultsCDF.close()"
   ]
  },
  {
   "cell_type": "markdown",
   "metadata": {},
   "source": [
    "# <center>...and plotted !"
   ]
  },
  {
   "cell_type": "code",
   "execution_count": null,
   "metadata": {},
   "outputs": [],
   "source": [
    "from filament.display import animate"
   ]
  },
  {
   "cell_type": "code",
   "execution_count": null,
   "metadata": {},
   "outputs": [],
   "source": [
    "variable = 'theta_t'\n",
    "\n",
    "# the CDF file results.nc stored in the output_folder is used to \n",
    "# generate a video saved in the output_folder\n",
    "animate.make_video(output_folder + '/results.nc', output_folder, variable)"
   ]
  },
  {
   "cell_type": "markdown",
   "metadata": {},
   "source": [
    "# <center>N'Joy"
   ]
  },
  {
   "cell_type": "markdown",
   "metadata": {},
   "source": [
    "## To do :\n",
    "- plots (both during and after computation)\n",
    "- w vertical wind use in wrap_advection_3P\n",
    "- WV\n",
    "- check if we can start back from our backup file --> PB erase previous data in results.nc ... "
   ]
  },
  {
   "cell_type": "markdown",
   "metadata": {},
   "source": [
    "# Checking backup start"
   ]
  },
  {
   "cell_type": "code",
   "execution_count": 11,
   "metadata": {},
   "outputs": [],
   "source": [
    "T = 11*dt\n",
    "Nt = T//dt\n",
    "from netCDF4 import Dataset\n",
    "backupCDF = Dataset(output_folder + '/backup.nc', 'r', format='NETCDF4', parallel=False)\n",
    "\n",
    "mySim = Simulation(backupCDF,\n",
    "                   T, Nt, \n",
    "                   methods, \n",
    "                   output_folder, \n",
    "                   save_rate, \n",
    "                   backup_rate, \n",
    "                   verbose,\n",
    "                   methods_kwargs)"
   ]
  },
  {
   "cell_type": "code",
   "execution_count": 12,
   "metadata": {},
   "outputs": [
    {
     "name": "stdout",
     "output_type": "stream",
     "text": [
      "          ------------------------\n",
      "          |  RUNNING SIMULATION  |\n",
      "          ------------------------\n",
      "\n",
      "\n",
      "Iteration  0 ...\n",
      "---> backup refreshed at iteration 0\n",
      "---> saved results of iteration 0\n",
      "      *** Proceeding to method: pseudo_spectral_wind\n",
      "      *** CPU time = 0.81  seconds\n",
      "      *** Proceeding to method: wrap_advection_step_3P\n",
      "      *** CPU time = 6.09  seconds\n",
      "\n",
      "\n",
      "Iteration  1 ...\n",
      "---> saved results of iteration 1\n",
      "      *** Proceeding to method: pseudo_spectral_wind\n",
      "      *** CPU time = 0.77  seconds\n",
      "      *** Proceeding to method: wrap_advection_step_3P\n",
      "      *** CPU time = 6.09  seconds\n",
      "\n",
      "\n",
      "Iteration  2 ...\n",
      "---> saved results of iteration 2\n",
      "      *** Proceeding to method: pseudo_spectral_wind\n",
      "      *** CPU time = 0.77  seconds\n",
      "      *** Proceeding to method: wrap_advection_step_3P\n",
      "      *** CPU time = 5.99  seconds\n",
      "\n",
      "\n",
      "Iteration  3 ...\n",
      "---> saved results of iteration 3\n",
      "      *** Proceeding to method: pseudo_spectral_wind\n",
      "      *** CPU time = 0.77  seconds\n",
      "      *** Proceeding to method: wrap_advection_step_3P\n",
      "      *** CPU time = 6.00  seconds\n",
      "\n",
      "\n",
      "Iteration  4 ...\n",
      "---> saved results of iteration 4\n",
      "      *** Proceeding to method: pseudo_spectral_wind\n",
      "      *** CPU time = 0.78  seconds\n",
      "      *** Proceeding to method: wrap_advection_step_3P\n",
      "      *** CPU time = 6.12  seconds\n",
      "\n",
      "\n",
      "Iteration  5 ...\n",
      "---> saved results of iteration 5\n",
      "      *** Proceeding to method: pseudo_spectral_wind\n",
      "      *** CPU time = 0.79  seconds\n",
      "      *** Proceeding to method: wrap_advection_step_3P\n",
      "      *** CPU time = 6.21  seconds\n",
      "\n",
      "\n",
      "Iteration  6 ...\n",
      "---> saved results of iteration 6\n",
      "      *** Proceeding to method: pseudo_spectral_wind\n",
      "      *** CPU time = 0.78  seconds\n",
      "      *** Proceeding to method: wrap_advection_step_3P\n",
      "      *** CPU time = 6.09  seconds\n",
      "\n",
      "\n",
      "Iteration  7 ...\n",
      "---> saved results of iteration 7\n",
      "      *** Proceeding to method: pseudo_spectral_wind\n",
      "      *** CPU time = 0.80  seconds\n",
      "      *** Proceeding to method: wrap_advection_step_3P\n",
      "      *** CPU time = 6.27  seconds\n",
      "\n",
      "\n",
      "Iteration  8 ...\n",
      "---> saved results of iteration 8\n",
      "      *** Proceeding to method: pseudo_spectral_wind\n",
      "      *** CPU time = 0.77  seconds\n",
      "      *** Proceeding to method: wrap_advection_step_3P\n",
      "      *** CPU time = 6.32  seconds\n",
      "\n",
      "\n",
      "Iteration  9 ...\n",
      "---> saved results of iteration 9\n",
      "      *** Proceeding to method: pseudo_spectral_wind\n",
      "      *** CPU time = 0.78  seconds\n",
      "      *** Proceeding to method: wrap_advection_step_3P\n",
      "      *** CPU time = 6.52  seconds\n",
      "\n",
      "\n",
      "Iteration  10 ...\n",
      "---> backup refreshed at iteration 10\n",
      "---> saved results of iteration 10\n",
      "      *** Proceeding to method: pseudo_spectral_wind\n",
      "      *** CPU time = 0.87  seconds\n",
      "      *** Proceeding to method: wrap_advection_step_3P\n",
      "      *** CPU time = 6.18  seconds\n",
      "\n",
      "\n",
      "Total CPU time for method  pseudo_spectral_wind  = 8.68  seconds\n",
      "Mean CPU time for method  pseudo_spectral_wind  per call = 0.79  seconds\n",
      "\n",
      "\n",
      "Total CPU time for method  wrap_advection_step_3P  = 67.90  seconds\n",
      "Mean CPU time for method  wrap_advection_step_3P  per call = 6.17  seconds\n"
     ]
    }
   ],
   "source": [
    "mySim.run()"
   ]
  },
  {
   "cell_type": "code",
   "execution_count": 15,
   "metadata": {},
   "outputs": [
    {
     "name": "stdout",
     "output_type": "stream",
     "text": [
      "[100. 110. 120. 130. 140. 150. 160. 170. 180. 190. 200.]\n"
     ]
    }
   ],
   "source": [
    "resultsCDF = Dataset(output_folder + '/results.nc', 'r', format='NETCDF4', parallel=False)\n",
    "print(resultsCDF['t'][:].data)\n",
    "resultsCDF.close()"
   ]
  },
  {
   "cell_type": "code",
   "execution_count": null,
   "metadata": {},
   "outputs": [],
   "source": []
  }
 ],
 "metadata": {
  "kernelspec": {
   "display_name": "Python 3",
   "language": "python",
   "name": "python3"
  },
  "language_info": {
   "codemirror_mode": {
    "name": "ipython",
    "version": 3
   },
   "file_extension": ".py",
   "mimetype": "text/x-python",
   "name": "python",
   "nbconvert_exporter": "python",
   "pygments_lexer": "ipython3",
   "version": "3.7.6"
  }
 },
 "nbformat": 4,
 "nbformat_minor": 4
}
