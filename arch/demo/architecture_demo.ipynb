{
 "cells": [
  {
   "cell_type": "code",
   "execution_count": 1,
   "metadata": {},
   "outputs": [],
   "source": [
    "%load_ext autoreload\n",
    "%autoreload 2"
   ]
  },
  {
   "cell_type": "code",
   "execution_count": 2,
   "metadata": {},
   "outputs": [],
   "source": [
    "import numpy as np\n",
    "import matplotlib.pyplot as plt"
   ]
  },
  {
   "cell_type": "code",
   "execution_count": 3,
   "metadata": {},
   "outputs": [],
   "source": [
    "from filament.core.grid import Grid\n",
    "from filament.core.state import State\n",
    "from filament.core.simulation import Simulation\n",
    "from filament.test.test_cases import bubble_test, create_results_netcdf, gaussian_test"
   ]
  },
  {
   "cell_type": "code",
   "execution_count": 4,
   "metadata": {},
   "outputs": [],
   "source": [
    "Lx = 2048\n",
    "Ly = 1024\n",
    "Nx = 256\n",
    "Ny = 128\n",
    "grid = Grid(Lx, Ly, Nx, Ny)\n",
    "\n",
    "#T =48*3600 Complete simulation is very long\n",
    "dt = 3\n",
    "T = 1*300\n",
    "Nt = T//dt\n",
    "\n",
    "\n",
    "cx = 500\n",
    "cy = 500\n",
    "radius = 100\n",
    "wind_norm = 5\n",
    "\n",
    "ratio_x = Nx//10 # 1 arrow every <ratio> point\n",
    "ratio_y = Ny//10"
   ]
  },
  {
   "cell_type": "code",
   "execution_count": 5,
   "metadata": {},
   "outputs": [],
   "source": [
    "def stupid_method(history, verbose, *args, **kwargs):\n",
    "    last_state = history.state_list[-1]\n",
    "    \n",
    "    new_state = State.copy(last_state)\n",
    "    new_state.t += dt\n",
    "    print(new_state.t) if verbose else None\n",
    "    new_state.vars['theta_t'][int(new_state.t) % Nx, int(new_state.t) % Ny] = 1\n",
    "    history.append(new_state)\n",
    "    history.pop(0)"
   ]
  },
  {
   "cell_type": "code",
   "execution_count": 6,
   "metadata": {},
   "outputs": [],
   "source": [
    "methods = [stupid_method]\n",
    "output_folder = 'output_test'\n",
    "save_rate = 5\n",
    "backup_rate = 2\n",
    "verbose = True\n",
    "\n",
    "mySim = Simulation(gaussian_test('initial.nc', grid, T, Nt),\n",
    "                   Lx, Ly, Nx, Ny, T, Nt, \n",
    "                   methods, \n",
    "                   output_folder, \n",
    "                   save_rate, \n",
    "                   backup_rate, \n",
    "                   verbose)"
   ]
  },
  {
   "cell_type": "code",
   "execution_count": 7,
   "metadata": {},
   "outputs": [
    {
     "name": "stdout",
     "output_type": "stream",
     "text": [
      "backup 0 done\n",
      "save 0 done\n",
      "6.0\n",
      "9.0\n",
      "backup 2 done\n",
      "12.0\n",
      "15.0\n",
      "backup 4 done\n",
      "18.0\n",
      "save 5 done\n",
      "21.0\n",
      "backup 6 done\n",
      "24.0\n",
      "27.0\n",
      "backup 8 done\n",
      "30.0\n",
      "33.0\n",
      "backup 10 done\n",
      "save 10 done\n",
      "36.0\n",
      "39.0\n",
      "backup 12 done\n",
      "42.0\n",
      "45.0\n",
      "backup 14 done\n",
      "48.0\n",
      "save 15 done\n",
      "51.0\n",
      "backup 16 done\n",
      "54.0\n",
      "57.0\n",
      "backup 18 done\n",
      "60.0\n",
      "63.0\n",
      "backup 20 done\n",
      "save 20 done\n",
      "66.0\n",
      "69.0\n",
      "backup 22 done\n",
      "72.0\n",
      "75.0\n",
      "backup 24 done\n",
      "78.0\n",
      "save 25 done\n",
      "81.0\n",
      "backup 26 done\n",
      "84.0\n",
      "87.0\n",
      "backup 28 done\n",
      "90.0\n",
      "93.0\n",
      "backup 30 done\n",
      "save 30 done\n",
      "96.0\n",
      "99.0\n",
      "backup 32 done\n",
      "102.0\n",
      "105.0\n",
      "backup 34 done\n",
      "108.0\n",
      "save 35 done\n",
      "111.0\n",
      "backup 36 done\n",
      "114.0\n",
      "117.0\n",
      "backup 38 done\n",
      "120.0\n",
      "123.0\n",
      "backup 40 done\n",
      "save 40 done\n",
      "126.0\n",
      "129.0\n",
      "backup 42 done\n",
      "132.0\n",
      "135.0\n",
      "backup 44 done\n",
      "138.0\n",
      "save 45 done\n",
      "141.0\n",
      "backup 46 done\n",
      "144.0\n",
      "147.0\n",
      "backup 48 done\n",
      "150.0\n",
      "153.0\n",
      "backup 50 done\n",
      "save 50 done\n",
      "156.0\n",
      "159.0\n",
      "backup 52 done\n",
      "162.0\n",
      "165.0\n",
      "backup 54 done\n",
      "168.0\n",
      "save 55 done\n",
      "171.0\n",
      "backup 56 done\n",
      "174.0\n",
      "177.0\n",
      "backup 58 done\n",
      "180.0\n",
      "183.0\n",
      "backup 60 done\n",
      "save 60 done\n",
      "186.0\n",
      "189.0\n",
      "backup 62 done\n",
      "192.0\n",
      "195.0\n",
      "backup 64 done\n",
      "198.0\n",
      "save 65 done\n",
      "201.0\n",
      "backup 66 done\n",
      "204.0\n",
      "207.0\n",
      "backup 68 done\n",
      "210.0\n",
      "213.0\n",
      "backup 70 done\n",
      "save 70 done\n",
      "216.0\n",
      "219.0\n",
      "backup 72 done\n",
      "222.0\n",
      "225.0\n",
      "backup 74 done\n",
      "228.0\n",
      "save 75 done\n",
      "231.0\n",
      "backup 76 done\n",
      "234.0\n",
      "237.0\n",
      "backup 78 done\n",
      "240.0\n",
      "243.0\n",
      "backup 80 done\n",
      "save 80 done\n",
      "246.0\n",
      "249.0\n",
      "backup 82 done\n",
      "252.0\n",
      "255.0\n",
      "backup 84 done\n",
      "258.0\n",
      "save 85 done\n",
      "261.0\n",
      "backup 86 done\n",
      "264.0\n",
      "267.0\n",
      "backup 88 done\n",
      "270.0\n",
      "273.0\n",
      "backup 90 done\n",
      "save 90 done\n",
      "276.0\n",
      "279.0\n",
      "backup 92 done\n",
      "282.0\n",
      "285.0\n",
      "backup 94 done\n",
      "288.0\n",
      "save 95 done\n",
      "291.0\n",
      "backup 96 done\n",
      "294.0\n",
      "297.0\n",
      "backup 98 done\n",
      "300.0\n",
      "303.0\n"
     ]
    }
   ],
   "source": [
    "mySim.run()"
   ]
  },
  {
   "cell_type": "markdown",
   "metadata": {},
   "source": [
    "# Plotting results"
   ]
  },
  {
   "cell_type": "code",
   "execution_count": 8,
   "metadata": {},
   "outputs": [],
   "source": [
    "from filament.display import animate"
   ]
  },
  {
   "cell_type": "code",
   "execution_count": 9,
   "metadata": {},
   "outputs": [
    {
     "name": "stderr",
     "output_type": "stream",
     "text": [
      "/Users/pablorichard/miniconda3/envs/py37/lib/python3.7/site-packages/matplotlib/image.py:397: UserWarning: Warning: converting a masked element to nan.\n",
      "  dv = (np.float64(self.norm.vmax) -\n",
      "/Users/pablorichard/miniconda3/envs/py37/lib/python3.7/site-packages/matplotlib/image.py:398: UserWarning: Warning: converting a masked element to nan.\n",
      "  np.float64(self.norm.vmin))\n",
      "/Users/pablorichard/miniconda3/envs/py37/lib/python3.7/site-packages/matplotlib/image.py:405: UserWarning: Warning: converting a masked element to nan.\n",
      "  a_min = np.float64(newmin)\n",
      "/Users/pablorichard/miniconda3/envs/py37/lib/python3.7/site-packages/matplotlib/image.py:410: UserWarning: Warning: converting a masked element to nan.\n",
      "  a_max = np.float64(newmax)\n",
      "<string>:6: UserWarning: Warning: converting a masked element to nan.\n",
      "/Users/pablorichard/miniconda3/envs/py37/lib/python3.7/site-packages/numpy/ma/core.py:722: UserWarning: Warning: converting a masked element to nan.\n",
      "  data = np.array(a, copy=False, subok=subok)\n"
     ]
    },
    {
     "data": {
      "text/html": [
       "<video width=800 controls>\n",
       "                         <source src=\"data:output_test/videos/theta_t/mp4;base64,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\" type=\"video/mp4\">\n",
       "                   </video>"
      ],
      "text/plain": [
       "<IPython.core.display.HTML object>"
      ]
     },
     "execution_count": 9,
     "metadata": {},
     "output_type": "execute_result"
    }
   ],
   "source": [
    "variable = 'theta_t'\n",
    "\n",
    "animate.make_video(output_folder + '/results.nc', output_folder, variable)"
   ]
  },
  {
   "cell_type": "code",
   "execution_count": null,
   "metadata": {},
   "outputs": [],
   "source": []
  }
 ],
 "metadata": {
  "kernelspec": {
   "display_name": "Python 3",
   "language": "python",
   "name": "python3"
  },
  "language_info": {
   "codemirror_mode": {
    "name": "ipython",
    "version": 3
   },
   "file_extension": ".py",
   "mimetype": "text/x-python",
   "name": "python",
   "nbconvert_exporter": "python",
   "pygments_lexer": "ipython3",
   "version": "3.7.7"
  }
 },
 "nbformat": 4,
 "nbformat_minor": 4
}
