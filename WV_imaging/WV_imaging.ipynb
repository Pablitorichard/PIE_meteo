{
 "cells": [
  {
   "cell_type": "markdown",
   "metadata": {},
   "source": [
    "# <center><span style=\"font-size: 50px; color: blue;\"> Water Vapor Imaging </span></center>"
   ]
  },
  {
   "cell_type": "markdown",
   "metadata": {},
   "source": [
    "## <center> General Considerations"
   ]
  },
  {
   "cell_type": "markdown",
   "metadata": {},
   "source": [
    "# How to interpret Water-Vapor satellites images\n",
    "\n",
    "Water vapor imagery is used to analyze the presence and movement of water vapor moisture in the upper and middle levels of the atmosphere (*i.e. about 650 milibars above the top of the troposphere*). The wavelength spectrum used to detect water vapor is in the 6.7 to 7.3 micrometer wavelength range. Above the troposphere there is very little moisture.\n",
    "\n",
    "Examples of satellites able to perform such measurements are:\n",
    "\n",
    "- the NOAA series\n",
    "- the Metop series (A & B)\n",
    "- Suomi NPP (sun-synchronous orbit)\n",
    "- Meteosat-4 (quoted in *Wirth et al 1997)*\n",
    "\n",
    "Using these wavelength, only the top most level of moisture is detected. When upper level moisture is present, this layer of moisture will prevent the detection of water vapor that is below this layer. If the upper levels are dry then water vapor can be detected in the middle layers of the atmosphere.\n",
    "\n",
    "Water vapor absorbs radiation in the wavelength from 6.7 to 7.3 microns. Suppose there is a thick layer of moisture in the upper levels. This layer of moisture will absorb the IR radiation in the 6.7 to 7.3 micron wavelengths that are being emitted from the lower troposphere up to this layer. Thus, the satellite receives less radiation in the 6.7 to 7.3 micron spectrum where there is a higher concentration of upper level moisture. The satellite will interpret this greater absorption as a colder temperature and a higher concentration of water vapor. If the upper levels are dry then less radiation is absorbed by moisture in the 6.7 to 7.3 micron spectrum in the upper levels. The satellite will interpret this lesser absorption as a warmer temperature and a lesser concentration of moisture. A high emission in the 6.7 to 7.3 micron spectrum indicates the emission is coming closer to the lower levels of the troposphere where it is warmer and more moisture is present.\n",
    "\n",
    "A dark color indicates a relative lack of upper level moisture. It does not mean though there is a lack of moisture in the lower levels or at the surface. It could be very moist at the surface or it could be fairly dry. A white indicates a high concentration of water vapor. This layer of water vapor is absorbing radiation in the 6.7 to 7.3 micron range.\n",
    "\n",
    "# What link with meteorology?\n",
    "\n",
    "1) Water vapor imagery can be used to detect dry slots. Within the dry slot precipitation intensity diminishes and precipitation chance is reduced. Dry slots can happen when a mid-latitude cyclone or tropical system advects air from a dry air source into its circulation.\n",
    "\n",
    "2) Water vapor imagery allows the forecaster to see a complete atmospheric motion that is not just where the clouds are.\n",
    "\n",
    "3) Water vapor imagery can be used to pick out the exact position of upper level lows. \n",
    "\n",
    "# Troposphere vs Stratosphere properties\n",
    "\n",
    "Stratospheric air is characterized by\n",
    "- low concentration of water vapor $\\iff$ high radiance $\\iff$ dark shading\n",
    "- high values of potential vorticity\n",
    "- high static stability (Juckes 1994)\n",
    "\n",
    "Troposheric air is characterized by\n",
    "- a higher level of moisture compared to the stratosphere\n",
    "- weak potential vorticity\n",
    "- low static stability (Juckes 1994)\n",
    "\n",
    "# What *Wirth et al. 1997* teaches us\n",
    "\n",
    "- Definition of an \"__effective level of emission__\", which is an isosteric surface (where $\\rho$ = $\\rho_{w}$). The satellite, in space, measures the radiation coming from this effective layer, which is the highest altitude where there's appreviable water vapor. Above the effective layer, there is not enough water vapor to absorb the radiation emitted from below, nor is there enough emission of infrared radiation to be detected by the satellite. Any radiation emitted below the effective layer is simply absorbed by the water vapor above it. The radiation received can be converted to a temperature using a black-body model for instance (*Cf equation 1 of Wirth*).\n",
    "\n",
    "\n",
    "- ECMWF model shows that \"the effective level of emission follows roughly the displacement of the tropopause but is displaced downward by 1-2km [...]. This indicates that the vertical displacement of the specific humidity surface gives a good approximation for the location of the effective level of emission\".\n",
    "\n",
    "$$ \\mathrm{specific \\ humidity \\ surface} = s = \\frac{\\rho_w}{\\rho_{air}} $$\n",
    "\n",
    "- Thus in a cloud-free atmosphere and without tropopause folds, the radiation received by the satellite is given, to a good approximation, by the temperature on an isosteric surface somewhat below the tropopause.\n",
    "\n",
    "\n",
    "- __key idea__: Let's assume that the relevant isosteric surface is close to a reference level $z^*$.\n",
    "\n",
    "$$ (u_{g, tp}(x, y) , v_{g, tp}(x, y)) \\neq (u_g(x, y, z^*) , v_g(x, y, z^*)) $$\n",
    "\n",
    "because of the exponential decay with $|z|$. Second, and more important, the vertical wind induced by the quasigeostrophic motion of the tropopause anomaly vanishes identically at the tropopause but is non-zero below! Therefore, the upper-tropospheric air motion is genrally not parallel to the motion of the intrusion itself, and one may expect the evolving pattern of the WV image to differ qualitatively for the pattern of the displaced tropopause $\\delta z (x, y)$\n",
    "\n",
    "- notations:\n",
    "\n",
    "$\\Delta z(\\mathbf{x}, t)$ denotes the vertical displacement of a parcel of air that started at reference altitude $z^*$ at time $t_0$ and that has reached horizontal position $\\mathbf{x}$ at time $t$. This quantity is advected by the local winds, following *equation 15*.\n",
    "\n",
    "$\\Delta T_{bb}(\\mathbf{x})$ is the anomaly of the equivalent black-body temperature at the emission surface. It can be decomposed into the sum of three contributions, namely\n",
    "\n",
    "$\\Delta T_{bb}^{hist}(\\delta z_0)$, where $\\delta z_0 = \\delta z(t=0)$ represents the anomaly in specific humidity previous to the initial time $t_0$. It is governed by equations (17) and (18), which requires to know the quasi-geostrophic wind $(u_g, v_g)$ at $z^*$.\n",
    "\n",
    "$\\Delta T_{bb}^{disp}(\\Delta z)$ represents changes that occur through the vertical displacement $\\Delta z (x, y, t)$ which is related to a vertical shift of the effective level of emission.\n",
    "\n",
    "$\\Delta T_{bb}^{clouds}(\\Delta z)$ takes into account the formation of clouds which occurs as soon as $\\Delta z > \\Delta z_c$"
   ]
  },
  {
   "cell_type": "markdown",
   "metadata": {},
   "source": [
    "## <center> Pseudo Code"
   ]
  },
  {
   "cell_type": "markdown",
   "metadata": {},
   "source": [
    "# input\n",
    "\n",
    "A netCDF file generated from the first temporal simulation, which presumably contains:\n",
    "\n",
    "- $\\mathbf{t}$ vector containing all instants at which the quantities have been computed\n",
    "-\n",
    "-\n",
    "\n",
    "# algorithm\n",
    "\n",
    "\n"
   ]
  },
  {
   "cell_type": "markdown",
   "metadata": {},
   "source": [
    "## <center> Code"
   ]
  },
  {
   "cell_type": "markdown",
   "metadata": {},
   "source": [
    "## <center> Sources"
   ]
  },
  {
   "cell_type": "markdown",
   "metadata": {},
   "source": [
    "*Wirth et al (1997) - Signatures of Induced Vertical Air Motion Accompanying Quasi-Horizontal Roll-Up of\n",
    "Stratospheric Intrusions*\n",
    "\n",
    "https://www.theweatherprediction.com/habyhints2/523/\n",
    "\n",
    "https://www.e-education.psu.edu/meteo3/l5_p6.html"
   ]
  },
  {
   "cell_type": "code",
   "execution_count": null,
   "metadata": {},
   "outputs": [],
   "source": []
  }
 ],
 "metadata": {
  "kernelspec": {
   "display_name": "Python 3",
   "language": "python",
   "name": "python3"
  },
  "language_info": {
   "codemirror_mode": {
    "name": "ipython",
    "version": 3
   },
   "file_extension": ".py",
   "mimetype": "text/x-python",
   "name": "python",
   "nbconvert_exporter": "python",
   "pygments_lexer": "ipython3",
   "version": "3.7.4"
  }
 },
 "nbformat": 4,
 "nbformat_minor": 2
}
