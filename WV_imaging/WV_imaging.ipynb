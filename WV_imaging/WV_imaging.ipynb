{
 "cells": [
  {
   "cell_type": "markdown",
   "metadata": {},
   "source": [
    "# <center><span style=\"font-size: 50px; color: blue;\"> Water Vapor Imaging </span></center>"
   ]
  },
  {
   "cell_type": "markdown",
   "metadata": {},
   "source": [
    "## <center> General Considerations"
   ]
  },
  {
   "cell_type": "markdown",
   "metadata": {},
   "source": [
    "# How to interpret Water-Vapor satellites images\n",
    "\n",
    "Water vapor imagery is used to analyze the presence and movement of water vapor moisture in the upper and middle levels of the atmosphere (*i.e. about 650 milibars above the top of the troposphere*). The wavelength spectrum used to detect water vapor is in the 6.7 to 7.3 micrometer wavelength range. Above the troposphere there is very little moisture.\n",
    "\n",
    "Examples of satellites able to perform such measurements are:\n",
    "\n",
    "- the NOAA series\n",
    "- the Metop series (A & B)\n",
    "- Suomi NPP (sun-synchronous orbit)\n",
    "- Meteosat-4 (quoted in *Wirth et al 1997)*\n",
    "\n",
    "Using these wavelength, only the top most level of moisture is detected. When upper level moisture is present, this layer of moisture will prevent the detection of water vapor that is below this layer. If the upper levels are dry then water vapor can be detected in the middle layers of the atmosphere.\n",
    "\n",
    "Water vapor absorbs radiation in the wavelength from 6.7 to 7.3 microns. Suppose there is a thick layer of moisture in the upper levels. This layer of moisture will absorb the IR radiation in the 6.7 to 7.3 micron wavelengths that are being emitted from the lower troposphere up to this layer. Thus, the satellite receives less radiation in the 6.7 to 7.3 micron spectrum where there is a higher concentration of upper level moisture. The satellite will interpret this greater absorption as a colder temperature and a higher concentration of water vapor. If the upper levels are dry then less radiation is absorbed by moisture in the 6.7 to 7.3 micron spectrum in the upper levels. The satellite will interpret this lesser absorption as a warmer temperature and a lesser concentration of moisture. A high emission in the 6.7 to 7.3 micron spectrum indicates the emission is coming closer to the lower levels of the troposphere where it is warmer and more moisture is present.\n",
    "\n",
    "A dark color indicates a relative lack of upper level moisture. It does not mean though there is a lack of moisture in the lower levels or at the surface. It could be very moist at the surface or it could be fairly dry. A white indicates a high concentration of water vapor. This layer of water vapor is absorbing radiation in the 6.7 to 7.3 micron range.\n",
    "\n",
    "# What link with meteorology?\n",
    "\n",
    "1) Water vapor imagery can be used to detect dry slots. Within the dry slot precipitation intensity diminishes and precipitation chance is reduced. Dry slots can happen when a mid-latitude cyclone or tropical system advects air from a dry air source into its circulation.\n",
    "\n",
    "2) Water vapor imagery allows the forecaster to see a complete atmospheric motion that is not just where the clouds are.\n",
    "\n",
    "3) Water vapor imagery can be used to pick out the exact position of upper level lows. \n",
    "\n",
    "# Troposphere vs Stratosphere properties\n",
    "\n",
    "Stratospheric air is characterized by\n",
    "- low concentration of water vapor $\\iff$ high radiance $\\iff$ dark shading\n",
    "- high values of potential vorticity\n",
    "- high static stability (Juckes 1994)\n",
    "\n",
    "Troposheric air is characterized by\n",
    "- a higher level of moisture compared to the stratosphere $\\iff$ low radiance $\\iff$ bright shading\n",
    "- weak potential vorticity\n",
    "- low static stability (Juckes 1994)\n",
    "\n",
    "# What *Wirth et al. 1997* teaches us\n",
    "\n",
    "- Definition of an \"__effective level of emission__\", which is an isosteric surface (where $\\rho$ = $\\rho_{w}$). The satellite, in space, measures the radiation coming from this effective layer, which is the highest altitude where there's appreviable water vapor. Above the effective layer, there is not enough water vapor to absorb the radiation emitted from below, nor is there enough emission of infrared radiation to be detected by the satellite. Any radiation emitted below the effective layer is simply absorbed by the water vapor above it. The radiation received can be converted to a temperature using a black-body model for instance (*Cf equation 1 of Wirth*).\n",
    "\n",
    "\n",
    "- ECMWF model shows that \"the effective level of emission follows roughly the displacement of the tropopause but is displaced downward by 1-2km [...]. This indicates that the vertical displacement of the specific humidity surface gives a good approximation for the location of the effective level of emission\".\n",
    "\n",
    "$$ \\mathrm{specific \\ humidity \\ surface} = s = \\frac{\\rho_w}{\\rho_{air}} $$\n",
    "\n",
    "- Thus in a cloud-free atmosphere and without tropopause folds, the radiation received by the satellite is given, to a good approximation, by the temperature on an isosteric surface somewhat below the tropopause.\n",
    "\n",
    "\n",
    "- __key idea__: Let's assume that the relevant isosteric surface is close to a reference level $z^*$.\n",
    "\n",
    "$$ (u_{g, tp}(x, y) , v_{g, tp}(x, y)) \\neq (u_g(x, y, z^*) , v_g(x, y, z^*)) $$\n",
    "\n",
    "because of the exponential decay with $|z|$. Second, and more important, the vertical wind induced by the quasigeostrophic motion of the tropopause anomaly vanishes identically at the tropopause but is non-zero below! Therefore, the upper-tropospheric air motion is genrally not parallel to the motion of the intrusion itself, and one may expect the evolving pattern of the WV image to differ qualitatively for the pattern of the displaced tropopause $\\delta z (x, y)$\n",
    "\n",
    "- notations:\n",
    "\n",
    "$\\Delta z(\\mathbf{x}, t)$ denotes the vertical displacement of a parcel of air that started at reference altitude $z^*$ at time $t_0$ and that has reached horizontal position $\\mathbf{x}$ at time $t$. This quantity is advected by the local winds, following *equation 15*.\n",
    "\n",
    "$\\Delta T_{bb}(\\mathbf{x})$ is the anomaly of the equivalent black-body temperature at the emission surface. It can be decomposed into the sum of three contributions, namely\n",
    "\n",
    "$\\Delta T_{bb}^{hist}(\\delta z_0)$, where $\\delta z_0 = \\delta z(t=0)$ represents the anomaly in specific humidity previous to the initial time $t_0$. It is governed by equations (17) and (18), which requires to know the quasi-geostrophic wind $(u_g, v_g)$ at $z^*$.\n",
    "\n",
    "$\\Delta T_{bb}^{disp}(\\Delta z)$ represents changes that occur through the vertical displacement $\\Delta z (x, y, t)$ which is related to a vertical shift of the effective level of emission.\n",
    "\n",
    "$\\Delta T_{bb}^{clouds}(\\Delta z)$ takes into account the formation of clouds which occurs as soon as $\\Delta z > \\Delta z_c$\n",
    "\n",
    "From a theoretical perspective, one needs to compute the 3D wind at the parcel level i.e. at $(x, y, z^* + \\Delta z)$. Because such computation would be extremely costly, we further assume that such wind can be approximated by $\\mathbf{u}_g(x, y, z^*)$ and $w(x, y, z^*)$."
   ]
  },
  {
   "cell_type": "markdown",
   "metadata": {},
   "source": [
    "## <center> Pseudo Code"
   ]
  },
  {
   "cell_type": "markdown",
   "metadata": {},
   "source": [
    "# input\n",
    "\n",
    "### Data\n",
    "\n",
    "A netCDF file generated from the first temporal simulation, which presumably contains:\n",
    "\n",
    "- A Grid-Object which references all the coordinates $\\mathbf{x} = (x, y)$ where the physical quantities have been computed.\n",
    "- $\\mathbf{t}$ vector containing all instants at which the quantities have been computed\n",
    "- $\\mathbf{u}_g(x,y,z^*) = (u_g(\\mathbf{x}, z^*), v_g(\\mathbf{x}, z^*))$ the geostrophic wind at reference level $z^*$. It is computed from equation (7). Verfication test : the geostrophic wind at the reference level should be weaker than the geostrophic wind at the tropopause because of the exponential decay in $|z|$.\n",
    "- $w(\\mathbf{x}, z^*)$ the ageostrophic wind at the reference level, which is computed from equation (10). This variable can have a lower time-resolution compared to the geostrophic wind (typically $\\tilde{\\Delta t} \\simeq 1$ hour instead of 30 seconds).\n",
    "- $\\delta z_0$ the initial tropopause displacement ($t = 0$) at each position $(x, y)$\n",
    "\n",
    "### Functions / Methods\n",
    "\n",
    "Few functions from team 1 can be re-use while others will have to be written from scratch\n",
    "\n",
    "- Solution of the advection equation can be re-used in order to find $\\Delta z$\n",
    "\n",
    "\n",
    "# algorithm\n",
    "\n",
    "Retrieve Simulation Data from the netCDF file\n",
    "\n",
    "Compute $\\Delta T_{bb}^{hist}(\\delta z_0) \\simeq \\gamma_1 \\times \\delta z_0$ once and for all\n",
    "\n",
    "Loop over the values of the instants vector $\\mathbf{t} = (t_0, t_1, ..., t_f)^T$ :\n",
    "\n",
    "&emsp; Compute $\\Delta z$ by solving the following advection equation\n",
    "\n",
    "$$ \\frac{\\partial \\Delta z}{\\partial t} + \\mathbf{u}_g . \\nabla \\Delta z = 0 $$\n",
    "\n",
    "&emsp; if $t_k$ is a multiple of 1 hour, then :\n",
    "\n",
    "&emsp;&emsp; $ \\Delta z += w(t_k) \\times  $\n",
    "\n",
    "&emsp; endif\n",
    "\n",
    "&emsp; Compute $\\Delta T(x, y)$ at current time $t_k$ (details below)\n",
    "\n",
    "&emsp;&emsp; Compute $\\Delta T_{bb}^{disp}(\\Delta z) \\simeq \\gamma_2 \\times \\Delta z$\n",
    "\n",
    "&emsp;&emsp; Compute $\\Delta T_{bb}^{clouds}(\\Delta z) = \\Delta T_c \\times (\\Delta z(t_k) > \\Delta z_c)$\n",
    "\n",
    "&emsp; Finally, $\\Delta T(x, y) = \\Delta T_{bb}^{hist}(\\delta z_0) + \\Delta T_{bb}^{disp}(\\Delta z) + \\Delta T_{bb}^{clouds}(\\Delta z)$\n",
    "\n",
    "&emsp; Plot the resulting Water-Vapor image at time $t_k$ for all $(x, y) \\in Grid$\n",
    "\n",
    "end Loop\n",
    "\n",
    "Export an animation with continuous variation of the data\n",
    "    \n",
    "\n"
   ]
  },
  {
   "cell_type": "markdown",
   "metadata": {},
   "source": [
    "## <center> Code"
   ]
  },
  {
   "cell_type": "code",
   "execution_count": 13,
   "metadata": {},
   "outputs": [],
   "source": [
    "#######################\n",
    "# MODULES IMPORTATION #\n",
    "#######################\n",
    "\n",
    "import numpy as np\n",
    "from pylab import *\n",
    "from sklearn import linear_model\n",
    "import seaborn as sns\n",
    "import pandas as pd\n",
    "import netCDF4 as nc\n",
    "import matplotlib.pyplot as plt\n",
    "from IPython.display import clear_output"
   ]
  },
  {
   "cell_type": "code",
   "execution_count": 7,
   "metadata": {
    "scrolled": true
   },
   "outputs": [
    {
     "ename": "FileNotFoundError",
     "evalue": "[Errno 2] No such file or directory: b'path/to/file.nc'",
     "output_type": "error",
     "traceback": [
      "\u001b[1;31m---------------------------------------------------------------------------\u001b[0m",
      "\u001b[1;31mFileNotFoundError\u001b[0m                         Traceback (most recent call last)",
      "\u001b[1;32m<ipython-input-7-b29a3e21c0aa>\u001b[0m in \u001b[0;36m<module>\u001b[1;34m\u001b[0m\n\u001b[0;32m      4\u001b[0m \u001b[1;33m\u001b[0m\u001b[0m\n\u001b[0;32m      5\u001b[0m \u001b[0mfn\u001b[0m \u001b[1;33m=\u001b[0m \u001b[1;34m'path/to/file.nc'\u001b[0m\u001b[1;33m\u001b[0m\u001b[1;33m\u001b[0m\u001b[0m\n\u001b[1;32m----> 6\u001b[1;33m \u001b[0mds\u001b[0m \u001b[1;33m=\u001b[0m \u001b[0mnc\u001b[0m\u001b[1;33m.\u001b[0m\u001b[0mDataset\u001b[0m\u001b[1;33m(\u001b[0m\u001b[0mfn\u001b[0m\u001b[1;33m)\u001b[0m\u001b[1;33m\u001b[0m\u001b[1;33m\u001b[0m\u001b[0m\n\u001b[0m\u001b[0;32m      7\u001b[0m \u001b[1;33m\u001b[0m\u001b[0m\n\u001b[0;32m      8\u001b[0m \u001b[0mt\u001b[0m \u001b[1;33m=\u001b[0m \u001b[0mnp\u001b[0m\u001b[1;33m.\u001b[0m\u001b[0mcopy\u001b[0m\u001b[1;33m(\u001b[0m\u001b[0mds\u001b[0m\u001b[1;33m[\u001b[0m\u001b[1;34m'TIME_FIELD_NAME'\u001b[0m\u001b[1;33m]\u001b[0m\u001b[1;33m)\u001b[0m \u001b[1;31m# time series - 1D\u001b[0m\u001b[1;33m\u001b[0m\u001b[1;33m\u001b[0m\u001b[0m\n",
      "\u001b[1;32mnetCDF4\\_netCDF4.pyx\u001b[0m in \u001b[0;36mnetCDF4._netCDF4.Dataset.__init__\u001b[1;34m()\u001b[0m\n",
      "\u001b[1;32mnetCDF4\\_netCDF4.pyx\u001b[0m in \u001b[0;36mnetCDF4._netCDF4._ensure_nc_success\u001b[1;34m()\u001b[0m\n",
      "\u001b[1;31mFileNotFoundError\u001b[0m: [Errno 2] No such file or directory: b'path/to/file.nc'"
     ]
    }
   ],
   "source": [
    "########################################\n",
    "# RETRIEVING DATA FROM THE NETCDF FILE #\n",
    "########################################\n",
    "\n",
    "fn = 'path/to/file.nc'\n",
    "ds = nc.Dataset(fn)\n",
    "\n",
    "t = np.copy(ds['TIME_FIELD_NAME']) # time series - 1D\n",
    "grid = np.copy(ds['GRID_FIELD_NAME']) # spatial grid - 2D\n",
    "u_ref = np.copy(ds['UG_FIELD_NAME']) # x-component of the geostrophic wind at reference level z* - 3D\n",
    "v_ref = np.copy(ds['VG_FIELD_NAME'])# y-component of the geostrophic wind at reference level z* - 3D\n",
    "w_ref = np.copy(ds['W_FIELD_NAME']) # z-component of the wind at reference level z* - 3D\n",
    "dz_0 = np.copy(ds['INITIAL_PERTURBATION_FIELD_NAME']) # initial tropopause perturbation - 2D\n"
   ]
  },
  {
   "cell_type": "code",
   "execution_count": 16,
   "metadata": {},
   "outputs": [],
   "source": [
    "#######################################\n",
    "# ANNEX FUNCTIONS FOR WV IMAGING ONLY #\n",
    "#######################################\n",
    "\n",
    "# idea https://stackoverflow.com/questions/5127668/how-to-visualize-scalar-2d-data-with-matplotlib\n",
    "# https://matplotlib.org/gallery/subplots_axes_and_figures/geo_demo.html#sphx-glr-gallery-subplots-axes-and-figures-geo-demo-py (for the earth area)\n",
    "\n",
    "\n",
    "def plot_Tmap():\n",
    "    '''\n",
    "    This function produces a 2D plot of the anomaly of the equivalent black-body temperature at the emission surface\n",
    "    Input:\n",
    "        - [] dxxx the anomaly of the equivalent BB Temp. at the emission surface\n",
    "        - [] grid the spatial grid used in computations\n",
    "    Output:\n",
    "        - [none] plot\n",
    "    '''\n",
    "    "
   ]
  },
  {
   "cell_type": "code",
   "execution_count": null,
   "metadata": {},
   "outputs": [],
   "source": [
    "###############################\n",
    "# MAIN PROGRAM FOR WV IMAGING #\n",
    "###############################\n",
    "\n",
    "# This is the main program for water-wapor imaging. Inputs should already be loaded for this portion of code to run.\n",
    "\n",
    "\n",
    "\n"
   ]
  },
  {
   "cell_type": "markdown",
   "metadata": {},
   "source": [
    "## <center> Sources"
   ]
  },
  {
   "cell_type": "markdown",
   "metadata": {},
   "source": [
    "*Wirth et al (1997) - Signatures of Induced Vertical Air Motion Accompanying Quasi-Horizontal Roll-Up of\n",
    "Stratospheric Intrusions*\n",
    "\n",
    "https://www.theweatherprediction.com/habyhints2/523/\n",
    "\n",
    "https://www.e-education.psu.edu/meteo3/l5_p6.html"
   ]
  },
  {
   "cell_type": "code",
   "execution_count": null,
   "metadata": {},
   "outputs": [],
   "source": []
  }
 ],
 "metadata": {
  "kernelspec": {
   "display_name": "Python 3",
   "language": "python",
   "name": "python3"
  },
  "language_info": {
   "codemirror_mode": {
    "name": "ipython",
    "version": 3
   },
   "file_extension": ".py",
   "mimetype": "text/x-python",
   "name": "python",
   "nbconvert_exporter": "python",
   "pygments_lexer": "ipython3",
   "version": "3.7.4"
  }
 },
 "nbformat": 4,
 "nbformat_minor": 2
}
