{
 "cells": [
  {
   "cell_type": "code",
   "execution_count": 7,
   "metadata": {},
   "outputs": [],
   "source": [
    "import numpy as np\n",
    "from initial_data import self_path, bubble_test"
   ]
  },
  {
   "cell_type": "code",
   "execution_count": 8,
   "metadata": {},
   "outputs": [
    {
     "name": "stdout",
     "output_type": "stream",
     "text": [
      "netcdf created\n"
     ]
    }
   ],
   "source": [
    "path = self_path / \"out.nc\"\n",
    "\n",
    "Lx = 2048\n",
    "Ly = 1024\n",
    "Nx = 256\n",
    "Ny = 128\n",
    "dt = 30\n",
    "\n",
    "T = 1*300\n",
    "#T =48*3600 Complete simulation is very long\n",
    "Nt = T//dt\n",
    "\n",
    "cx = 500\n",
    "cy = 500\n",
    "radius = 100\n",
    "wind_norm = 5\n",
    "\n",
    "\n",
    "ratio_x = Nx//10 # 1 arrow every <ratio> point\n",
    "ratio_y = Ny//10\n",
    "\n",
    "bubble_test(path, Lx, Ly, Nx, Ny, T, Nt, cx, cy, radius, wind_norm)"
   ]
  },
  {
   "cell_type": "code",
   "execution_count": 6,
   "metadata": {},
   "outputs": [
    {
     "data": {
      "text/plain": [
       "True"
      ]
     },
     "execution_count": 6,
     "metadata": {},
     "output_type": "execute_result"
    }
   ],
   "source": [
    "three_points_advection(path, 0)\n",
    "ugly_plot(path, ratio_x,ratio_y)"
   ]
  },
  {
   "cell_type": "code",
   "execution_count": null,
   "metadata": {},
   "outputs": [],
   "source": [
    "class State():\n",
    "    \n",
    "    def __init__(self, netCDF_file):\n",
    "            \n",
    "            \n",
    "    file_path= self_path / path\n",
    "    handle = Dataset(file_path, 'w',format='NETCDF4')\n",
    "\n",
    "#------------------------------------------------------------------------------\n",
    "\n",
    "#DIMENSIONS -------------------------------------------------------------------\n",
    "\n",
    "    handle.createDimension(\"Nx\", Nx)\n",
    "    handle.createDimension(\"Ny\", Ny)\n",
    "    handle.createDimension(\"Nt\", None) \n",
    "\n",
    "#------------------------------------------------------------------------------\n",
    "\n",
    "#ATTRIBUTE --------------------------------------------------------------------\n",
    "    handle.T = T    \n",
    "    handle.Lx = Lx\n",
    "    handle.Ly = Ly\n",
    "    handle.Nx = Nx\n",
    "    handle.Ny = Ny\n",
    "    handle.Nt = Nt\n",
    "    handle.dx = Lx / Nx\n",
    "    handle.dy = Ly/ Ny  \n",
    "    handle.dt = T/Nt\n",
    "#------------------------------------------------------------------------------\n",
    "\n",
    "#VARIABLES --------------------------------------------------------------------\n",
    "    # \"f8\" is a data type: 64-bit floating point variable\n",
    "    handle.createVariable(\"ut\",\"f8\", (\"Nx\", \"Ny\", \"Nt\"))\n",
    "    handle.createVariable(\"vt\", \"f8\", (\"Nx\", \"Ny\", \"Nt\"))\n",
    "    handle.createVariable(\"theta_t\", \"f8\",(\"Nx\", \"Ny\", \"Nt\"))\n",
    "    handle.createVariable(\"alpha_u\", \"f8\", (\"Nx\", \"Ny\", \"Nt\"))\n",
    "    handle.createVariable(\"alpha_v\", \"f8\", (\"Nx\", \"Ny\", \"Nt\"))\n",
    "    handle.createVariable(\"t\", \"f8\", (\"Nt\"))\n",
    "    handle.createVariable(\"x_grid\", \"f8\", (\"Nx\", \"Ny\"))\n",
    "    handle.createVariable(\"y_grid\", \"f8\", (\"Nx\", \"Ny\"))\n",
    "#------------------------------------------------------------------------------\n",
    "\n",
    "#GEOMETRY INITIALIZATION ------------------------------------------------------\n",
    "    \n",
    "    grid = np.mgrid[0:handle.Lx:handle.dx, 0:handle.Ly:handle.dy]\n",
    "    handle['x_grid'][:,:] = grid[0,:,:]\n",
    "    handle['y_grid'][:,:] = grid[1,:,:]"
   ]
  },
  {
   "cell_type": "code",
   "execution_count": null,
   "metadata": {},
   "outputs": [],
   "source": [
    "class Instant {\n",
    "\n",
    "Liste des attributs et types :\n",
    "\n",
    "ut (double) (Nx,Ny): composante zonale du champ de vitesse à la tropopause\n",
    "vt (double) (Nx,Ny): composante méridionale du champ de vitesse à la tropopause\n",
    "theta_t (double) (Nx,Ny): température potentielle à la tropopause\n",
    "alpha_ut (double) (Nx,Ny): estimation du déplacement (propre à la méthode semi-lagrangienne, mais nécessaire en condition initiale) - selon Ox\n",
    "alpha_vt (double) (Nx,Ny): estimation du déplacement -selon Oy\n",
    "alpha_us (double) (Nx,Ny): estimation du déplacement (propre à la méthode semi-lagrangienne, mais nécessaire en condition initiale) - selon Ox\n",
    "alpha_vs (double) (Nx,Ny): estimation du déplacement -selon Oy\n",
    "dz (double) (Nx,Ny): déplacement de la tropopause\n",
    "us (double) (Nx,Ny): composante zonale du champ de vitesse à la surface d’émission\n",
    "vs (double) (Nx,Ny): composante méridionale du champ de vitesse à la surface d’émission\n",
    "theta_s (double) (Nx,Ny): température potentielle à la surface d’émission\n",
    "Dz (double) (Nx,Ny): déplacement de la surface d’émission\n",
    "X (Nx): distance à l’origine sur l’axe zonal\n",
    "Y (Ny): distance à l’origine sur l’axe méridional\n"
   ]
  }
 ],
 "metadata": {
  "kernelspec": {
   "display_name": "Python 3",
   "language": "python",
   "name": "python3"
  },
  "language_info": {
   "codemirror_mode": {
    "name": "ipython",
    "version": 3
   },
   "file_extension": ".py",
   "mimetype": "text/x-python",
   "name": "python",
   "nbconvert_exporter": "python",
   "pygments_lexer": "ipython3",
   "version": "3.7.7"
  }
 },
 "nbformat": 4,
 "nbformat_minor": 4
}
