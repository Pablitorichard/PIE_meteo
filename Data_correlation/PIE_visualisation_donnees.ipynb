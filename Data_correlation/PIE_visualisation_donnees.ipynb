{
 "cells": [
  {
   "cell_type": "markdown",
   "metadata": {},
   "source": [
    "# Visualisation initiales des donn&eacute;es"
   ]
  },
  {
   "cell_type": "code",
   "execution_count": null,
   "metadata": {},
   "outputs": [],
   "source": [
    "import netCDF4 as nc\n",
    "import matplotlib.pyplot as plt\n",
    "import matplotlib.animation as animation\n",
    "from IPython.display import HTML"
   ]
  },
  {
   "cell_type": "markdown",
   "metadata": {},
   "source": [
    "## Les donn&eacute;es"
   ]
  },
  {
   "cell_type": "code",
   "execution_count": null,
   "metadata": {},
   "outputs": [],
   "source": [
    "data = nc.Dataset('Donnees/Donnees_PIE_Meteo.nc')"
   ]
  },
  {
   "cell_type": "markdown",
   "metadata": {},
   "source": [
    "Pour se faire une idée du contenu du fichier .netcdf :"
   ]
  },
  {
   "cell_type": "code",
   "execution_count": null,
   "metadata": {},
   "outputs": [],
   "source": [
    "for var in data.variables.values():\n",
    "    print(var)"
   ]
  },
  {
   "cell_type": "markdown",
   "metadata": {},
   "source": [
    "### Les dimensions"
   ]
  },
  {
   "cell_type": "markdown",
   "metadata": {},
   "source": [
    "<ul>\n",
    "    <li> Temps : 31 échantillons </li>\n",
    "    <li> Latitude : 361 échantillons </li>\n",
    "    <li> Longitude : 720 échantillons </li>\n",
    "</ul>"
   ]
  },
  {
   "cell_type": "markdown",
   "metadata": {},
   "source": [
    "### Les variables d'int&eacute;r&ecirc;t"
   ]
  },
  {
   "cell_type": "markdown",
   "metadata": {},
   "source": [
    "<ul>\n",
    "    <li> 'GP_GDS0_PV' : Le géopotentiel (potentiel gravitationnel au niveau de la tropopause)</li>\n",
    "    <li> 'POT_GDS0_PV' : La température potentielle (température que le fluide aurait à la pression $P_0=1000hPa$ - moyennant un transport adiabatique)</li>\n",
    "</ul>\n",
    "\n",
    "**Ces données sont donc de taille [31,361,720]**"
   ]
  },
  {
   "cell_type": "markdown",
   "metadata": {},
   "source": [
    "## Visualisation"
   ]
  },
  {
   "cell_type": "markdown",
   "metadata": {},
   "source": [
    "### A un instant t fixé"
   ]
  },
  {
   "cell_type": "code",
   "execution_count": null,
   "metadata": {},
   "outputs": [],
   "source": [
    "## Variable d'intérêt à afficher\n",
    "## Géopotentiel : 0  \n",
    "## Température potentielle : 1\n",
    "var = 0\n",
    "\n",
    "## t entier entre 0 et 360 inclus\n",
    "t = 0\n",
    "\n",
    "\n",
    "if(var==0):\n",
    "    var='GP_GDS0_PVL'\n",
    "else :\n",
    "    var='POT_GDS0_PVL'\n",
    "\n",
    "plt.figure(figsize=(10,7))\n",
    "plt.imshow(data[var][t,:,:])\n",
    "plt.show()"
   ]
  },
  {
   "cell_type": "markdown",
   "metadata": {},
   "source": [
    "### Vid&eacute;o "
   ]
  },
  {
   "cell_type": "code",
   "execution_count": null,
   "metadata": {},
   "outputs": [],
   "source": [
    "def video(nb):\n",
    "    \n",
    "    if (nb==0) :\n",
    "        donnee='GP_GDS0_PVL'\n",
    "    else :\n",
    "        donnee='POT_GDS0_PVL'\n",
    "        \n",
    "    fig=plt.figure()\n",
    "        \n",
    "    frames = []\n",
    "    fig = plt.figure(figsize=(10,7))\n",
    "    for i in range(31):\n",
    "        frames.append([plt.imshow(data[donnee][i,:,:], animated=True)])\n",
    "\n",
    "    anim = animation.ArtistAnimation(fig, frames, \n",
    "                                     interval=150, ## Video plus ou moins rapide/fluide \n",
    "                                     blit=True,\n",
    "                                     repeat=False) ## Reprendre au début à la fin\n",
    "\n",
    "    return anim"
   ]
  },
  {
   "cell_type": "code",
   "execution_count": null,
   "metadata": {},
   "outputs": [],
   "source": [
    "## Variable d'intérêt à afficher\n",
    "## Géopotentiel : 0  \n",
    "## Température potentielle : 1\n",
    "var = 0\n",
    "\n",
    "HTML(video(var).to_html5_video())"
   ]
  }
 ],
 "metadata": {
  "kernelspec": {
   "display_name": "Python 3",
   "language": "python",
   "name": "python3"
  },
  "language_info": {
   "codemirror_mode": {
    "name": "ipython",
    "version": 3
   },
   "file_extension": ".py",
   "mimetype": "text/x-python",
   "name": "python",
   "nbconvert_exporter": "python",
   "pygments_lexer": "ipython3",
   "version": "3.7.6"
  }
 },
 "nbformat": 4,
 "nbformat_minor": 2
}
