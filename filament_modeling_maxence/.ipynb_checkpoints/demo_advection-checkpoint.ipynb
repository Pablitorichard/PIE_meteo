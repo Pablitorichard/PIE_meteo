{
 "cells": [
  {
   "cell_type": "markdown",
   "metadata": {},
   "source": [
    "# Demonstration of the semi-lagrangian advection code for the potential temperature at the tropopause. "
   ]
  },
  {
   "cell_type": "markdown",
   "metadata": {},
   "source": [
    "Basic libraries:"
   ]
  },
  {
   "cell_type": "code",
   "execution_count": 7,
   "metadata": {},
   "outputs": [],
   "source": [
    "import numpy as np\n",
    "import scipy.interpolate as interpolate\n",
    "import matplotlib.pyplot as plt\n",
    "import matplotlib.cm as cm\n",
    "import time\n",
    "from netCDF4 import Dataset"
   ]
  },
  {
   "cell_type": "markdown",
   "metadata": {},
   "source": [
    "A few libraries are needed to handle paths smoothly in Python with Windows:"
   ]
  },
  {
   "cell_type": "code",
   "execution_count": 2,
   "metadata": {},
   "outputs": [],
   "source": [
    "from pathlib import Path\n",
    "import os\n",
    "import inspect\n",
    "# Path to \n",
    "self_path = Path(os.path.dirname(inspect.getfile(lambda: None)))"
   ]
  },
  {
   "cell_type": "markdown",
   "metadata": {},
   "source": [
    "# create_netcdf\n",
    "\n",
    "The function create_netcdf creates a \"application neutral\" netCDF file. It does not intialize the value of the array, it just create the dimensions, attributes, variables, etc. It handles the part of the initialization that would be common to all test cases. It returns the handle to the dataset (i.e. the netCDF file) for further modifications. It creates the variables:\n",
    "\n",
    "- \"theta\\_t\", which stands for $\\theta_t$ the potential temperature at the tropopause,\n",
    "- \"u\\_t\", which stands for $u_t$ the zonal component of the wind at the tropopause,\n",
    "- \"v\\_t\", which stands for $v_t$ the meridional component of the wind at the tropopause,\n",
    "- \"alpha\\_u\" which stands for $\\alpha\\_u$ the zonal estimation of the displacement (this quanitity is specific to the semi-Lagrangian scheme)\n",
    "- \"alpha\\_v\" which stands for $\\alpha\\_v$ the meriodnal estimation of the displacement (this quanitity is specific to the semi-Lagrangian scheme)\n",
    "- \"t\" will store the time at each iteration\n",
    "- \"x\\_grid\" is an array of the same shape as the model grid, storing the zonal position of each grid point,\n",
    "- \"y\\_grid\" is an array of the same shape as the model grid, storing the meridional position of each grid point."
   ]
  },
  {
   "cell_type": "code",
   "execution_count": 3,
   "metadata": {},
   "outputs": [],
   "source": [
    "def create_netcdf(path, Lx, Ly, T, Nx, Ny, Nt):\n",
    "\n",
    "#CREATION OF THE NETCDF FILE --------------------------------------------------\n",
    "\n",
    "    file_path= self_path / path\n",
    "    handle = Dataset(file_path, 'w',format='NETCDF4')\n",
    "\n",
    "#------------------------------------------------------------------------------\n",
    "\n",
    "#DIMENSIONS -------------------------------------------------------------------\n",
    "\n",
    "    handle.createDimension(\"Nx\", Nx)\n",
    "    handle.createDimension(\"Ny\", Ny)\n",
    "    handle.createDimension(\"Nt\", None) \n",
    "\n",
    "#------------------------------------------------------------------------------\n",
    "\n",
    "#ATTRIBUTE --------------------------------------------------------------------\n",
    "    handle.T = T    \n",
    "    handle.Lx = Lx\n",
    "    handle.Ly = Ly\n",
    "    handle.Nx = Nx\n",
    "    handle.Ny = Ny\n",
    "    handle.Nt = Nt\n",
    "    handle.dx = Lx / Nx\n",
    "    handle.dy = Ly/ Ny  \n",
    "    handle.dt = T/Nt\n",
    "#------------------------------------------------------------------------------\n",
    "\n",
    "#VARIABLES --------------------------------------------------------------------\n",
    "    # \"f8\" is a data type: 64-bit floating point variable\n",
    "    handle.createVariable(\"ut\",\"f8\", (\"Nx\", \"Ny\", \"Nt\"))\n",
    "    handle.createVariable(\"vt\", \"f8\", (\"Nx\", \"Ny\", \"Nt\"))\n",
    "    handle.createVariable(\"theta_t\", \"f8\",(\"Nx\", \"Ny\", \"Nt\"))\n",
    "    handle.createVariable(\"alpha_u\", \"f8\", (\"Nx\", \"Ny\", \"Nt\"))\n",
    "    handle.createVariable(\"alpha_v\", \"f8\", (\"Nx\", \"Ny\", \"Nt\"))\n",
    "    handle.createVariable(\"t\", \"f8\", (\"Nt\"))\n",
    "    handle.createVariable(\"x_grid\", \"f8\", (\"Nx\", \"Ny\"))\n",
    "    handle.createVariable(\"y_grid\", \"f8\", (\"Nx\", \"Ny\"))\n",
    "#------------------------------------------------------------------------------\n",
    "\n",
    "#GEOMETRY INITIALIZATION ------------------------------------------------------\n",
    "    \n",
    "    grid = np.mgrid[0:handle.Lx:handle.dx, 0:handle.Ly:handle.dy]\n",
    "    handle['x_grid'][:,:] = grid[0,:,:]\n",
    "    handle['y_grid'][:,:] = grid[1,:,:]\n",
    "\n",
    "#------------------------------------------------------------------------------\n",
    "    return(handle)\n",
    " "
   ]
  },
  {
   "cell_type": "markdown",
   "metadata": {},
   "source": [
    "# bubble_test\n",
    "\n",
    "Creating the netcdf is not enough, we also need to define initial conditions. A simple way to do that is to create one function per test case, wich calls create_netcdf and then initialize:\n",
    "- $\\theta_t$ at time $t_{-1}$,\n",
    "- $\\theta_t$ at time $t_{0}$,\n",
    "- $u_t$ at time $t_0$,\n",
    "- $v_t$ at time $t_0$,\n",
    "- $\\alpha_u$ at time $t_{0}$,\n",
    "- $\\alpha_v$ at time $t_{0}$,\n",
    "\n",
    "bubble_netcdf initializes a test case with a potential temperature field equal to 0 everywhere but in a bubble where its value is 1. The coordinates of the center of this bubble ($c_x$, $c_y$) and its radius are arguments of the function. This bubble is used both for $t_{-1}$ and $t_0$. To stay consistent with this choice, the initial displacement estimates are chosen equal to zero. The dimensions of the domain and time information are also taken as arguments and transferred to creat_netcdf. Finally, it needs the norm of the wind, which will be initialized as uniform and moving towards the North-East."
   ]
  },
  {
   "cell_type": "code",
   "execution_count": 9,
   "metadata": {},
   "outputs": [],
   "source": [
    "def bubble_test(path, Lx, Ly, Nx, Ny, T, Nt, cx, cy, radius, wind_norm):\n",
    "    \n",
    "    handle = create_netcdf(path, Lx, Ly,T,  Nx, Ny, Nt)\n",
    "    print(\"netcdf created\")\n",
    "#INITIALIZATION ---------------------------------------------------------------\n",
    "        \n",
    "    #Bubble creation\n",
    "    bubble_indices = np.where ( (handle['x_grid'][:,:] - cx)**2 +\n",
    "                               (handle['y_grid'][:,:] - cy)**2 < radius**2 )\n",
    "    F = np.zeros((Nx, Ny))\n",
    "    F[bubble_indices] = 1\n",
    "    \n",
    "    #Potential temperature\n",
    "    handle['theta_t'][:,:,0] = F\n",
    "    handle['theta_t'][:,:,1] = F\n",
    "    \n",
    "    #Initial displacement guess for advection\n",
    "    handle['alpha_u'][:,:,0] = np.zeros((Nx,Ny))\n",
    "    handle['alpha_v'][:,:,0] = np.zeros((Nx,Ny))\n",
    "    \n",
    "    #Uniform wind\n",
    "    u = wind_norm/np.sqrt(handle.dx**2+handle.dy**2)\n",
    "    handle['ut'][:,:,0] = u * np.ones((Nx,Ny))\n",
    "    handle['vt'][:,:,0] = u * np.ones((Nx,Ny))\n",
    "    \n",
    "    #time storage\n",
    "    handle['t'][0] = 0\n",
    "    handle['t'][1] = handle.dt\n",
    "#------------------------------------------------------------------------------\n",
    "    \n",
    "    handle.close()"
   ]
  },
  {
   "cell_type": "markdown",
   "metadata": {},
   "source": [
    "# three_points_advection"
   ]
  },
  {
   "cell_type": "markdown",
   "metadata": {},
   "source": [
    "The initial conidition is now ready. The netcdf file initialized by bubble\\_netcdf stores most of the information required to run the algorithm. We only need to give the path to this file to the function three_points_advection to run a simulation, along with simulation options. For the moment a boolean pseudo\\_spectral\\_wind is available. If equal to 0, the wind is kept constant throughout iterations. If equal to 1, the pseudo spectral balance relations are used to update it at each iteration. The code unpacks data from the netCDF and starts iterating. During each iteration, quantitites with the subscript \"minus\"in the code corresponds to the previous time instant, and \"plus\" to the next. Outside of the code, we use an index $^{-}$ or $^{+}$. At each iteration, the following operations are realized:\n",
    "\n",
    "- update the wind using the potential temperature by calling the pseudo-spectral balance relations.\n",
    "- interpolate $u_t$ at the location ($x-\\alpha_u^{-}$, $y-\\alpha_v^{-}$) for all $x$, $y$, as this is the location of the particle which should end up in $x$, $y$. Then this value is multiplied by $dt$\n",
    "\n",
    "\n",
    "# TO BE CHANGED"
   ]
  },
  {
   "cell_type": "code",
   "execution_count": 5,
   "metadata": {},
   "outputs": [],
   "source": [
    "def three_points_advection(path, pseudo_spectral_wind):\n",
    "    \n",
    "    #UNPACK DATA ------------------------------------------------\n",
    "    handle = Dataset(path, 'r+',format='NETCDF4')  \n",
    "    Nt = handle.Nt\n",
    "    dt = handle.dt\n",
    "    ut_minus = handle['ut'][:,:,0]\n",
    "    vt_minus = handle['vt'][:,:,0]\n",
    "    x_grid = handle['x_grid'][:,:]\n",
    "    y_grid = handle['y_grid'][:,:]\n",
    "    alpha_u_minus = handle['alpha_u'][:,:,0]\n",
    "    alpha_v_minus = handle['alpha_v'][:,:,0]\n",
    "    theta_minus = handle['theta_t'][:,:,0]\n",
    "    theta = handle['theta_t'][:,:,1]\n",
    "    t0 = time.time()\n",
    "    for k in range (1, Nt):\n",
    "        print(\"Progress: \",round(100*k/Nt,2),\" %\")\n",
    "        #Update of the tropopause wind\n",
    "        if (pseudo_spectral_wind == True):\n",
    "            #function taking theta as input and returning ut, vt\n",
    "            print('no pseudo spectral function yet, ut,vt kept contants')\n",
    "        else:\n",
    "            ut = ut_minus\n",
    "            vt = vt_minus\n",
    "        \n",
    "        # The displacement is updated by interpolating the velocity field \n",
    "        alpha_u = dt * interpolate.griddata( \n",
    "            (x_grid.flatten(), y_grid.flatten()),ut.flatten(),\n",
    "            (x_grid - alpha_u_minus, y_grid - alpha_v_minus),\n",
    "             method='linear', fill_value = 0) \n",
    "        \n",
    "        alpha_v = dt * interpolate.griddata( \n",
    "            (x_grid.flatten(), y_grid.flatten()), vt.flatten(),\n",
    "            (x_grid - alpha_u_minus, y_grid - alpha_v_minus),\n",
    "             method='linear', fill_value = 0)\n",
    "        \n",
    "        # theta_t at time tk+ 2*dt is udpated by interpolating F at time tk at the \n",
    "        # locations x - 2* alpha\n",
    "        theta_plus = interpolate.griddata(\n",
    "            (x_grid.flatten(), y_grid.flatten()), theta_minus.flatten(),\n",
    "            (x_grid - 2*alpha_u, y_grid - 2*alpha_v),\n",
    "            method='linear', fill_value = 0) \n",
    "        \n",
    "        # Write new quantitiesto netCDF\n",
    "        handle['alpha_u'][:,:,k] = alpha_u\n",
    "        handle['alpha_v'][:,:,k] = alpha_v\n",
    "        handle['theta_t'][:,:,k+1] = theta_plus \n",
    "        handle['ut'][:,:,k] = ut\n",
    "        handle['vt'][:,:,k] = vt\n",
    "        handle['t'][k+1] = handle ['t'][k] + dt \n",
    "        \n",
    "        # Update temporary arays\n",
    "        alpha_u_minus = alpha_u\n",
    "        alpha_v_minus = alpha_v\n",
    "        theta_minus = theta\n",
    "        theta = theta_plus\n",
    "        ut_minus = ut\n",
    "        vt_minus = vt\n",
    "    cpu_time = time.time() - t0 \n",
    "    print(\"CPU time = \",cpu_time,\" seconds\")\n",
    "    handle.close()\n"
   ]
  },
  {
   "cell_type": "markdown",
   "metadata": {},
   "source": [
    "# UGLY PLOTS MAKES UGLY PLOTS"
   ]
  },
  {
   "cell_type": "code",
   "execution_count": 11,
   "metadata": {},
   "outputs": [],
   "source": [
    "def ugly_plot(path, ratio_x, ratio_y):\n",
    "    # UNPACK\n",
    "    #UNPACK DATA ------------------------------------------------\n",
    "    handle = Dataset(path, 'r+',format='NETCDF4')  \n",
    "    Nt = handle.Nt\n",
    "    dt = handle.dt\n",
    "    Nx = handle.Nx\n",
    "    Ny = handle.Ny\n",
    "    x_grid = handle['x_grid'][:,:]\n",
    "    y_grid = handle['y_grid'][:,:]\n",
    "    X_coord = x_grid[:,0]\n",
    "    Y_coord = y_grid[0,:]\n",
    "\n",
    "    # DISPLAY\n",
    "    fig, (( ax_t0, ax_t1,), (ax_t2, ax_t3)) =  plt.subplots(nrows=2, ncols =2,\n",
    "                                                            figsize=[6.8/0.8,6.8])\n",
    "\n",
    "    ax_t0.pcolormesh(x_grid, y_grid,handle['theta_t'][:,:,1],\n",
    "                             cmap=cm.gist_yarg)\n",
    "    ax_t0.quiver(X_coord[0:Nx:ratio_x], Y_coord[0:Ny:ratio_y],\n",
    "                  handle['ut'][0:Nx:ratio_x, 0:Ny:ratio_y, 0],\n",
    "                  handle['vt'][0:Nx:ratio_x, 0:Ny:ratio_y, 0],\n",
    "                  color='b', width=0.003)\n",
    "    t0_label = 't = '+ str(handle['t'][1])\n",
    "    ax_t0.set_xlabel(t0_label)\n",
    "    \n",
    "\n",
    "    ax_t1.pcolormesh(x_grid, y_grid, handle['theta_t'][:,:,Nt//3],\n",
    "                     cmap=cm.gist_yarg)\n",
    "    ax_t1.quiver(X_coord[0:Nx:ratio_x], Y_coord[0:Ny:ratio_y],\n",
    "                  handle['ut'][0:Nx:ratio_x, 0:Ny:ratio_y, Nt//3-1],\n",
    "                  handle['vt'][0:Nx:ratio_x, 0:Ny:ratio_y, Nt//3-1],\n",
    "                  color='b', width=0.003)\n",
    "    t1_label = 't = '+ str(handle['t'][Nt//3])\n",
    "    ax_t1.set_xlabel(t1_label)\n",
    "    \n",
    "    \n",
    "\n",
    "    ax_t2.pcolormesh(x_grid, y_grid,handle['theta_t'][:,:,2*Nt//3],\n",
    "                     cmap=cm.gist_yarg)\n",
    "    ax_t2.quiver(X_coord[0:Nx:ratio_x], Y_coord[0:Ny:ratio_y],\n",
    "                  handle['ut'][0:Nx:ratio_x, 0:Ny:ratio_y, 2*Nt//3-1],\n",
    "                  handle['vt'][0:Nx:ratio_x, 0:Ny:ratio_y, 2*Nt//3-1],\n",
    "                  color='b', width=0.003)\n",
    "    t2_label = 't = '+ str(handle['t'][2*Nt//3])\n",
    "    ax_t2.set_xlabel(t2_label)\n",
    "    \n",
    "    \n",
    "\n",
    "    im_t3=ax_t3.pcolormesh(x_grid, y_grid ,handle['theta_t'][:,:,Nt],\n",
    "                     cmap=cm.gist_yarg)\n",
    "    ax_t3.quiver(X_coord[0:Nx:ratio_x], Y_coord[0:Ny:ratio_y],\n",
    "                  handle['ut'][0:Nx:ratio_x, 0:Ny:ratio_y, Nt-1],\n",
    "                  handle['vt'][0:Nx:ratio_x, 0:Ny:ratio_y, Nt-1],\n",
    "                  color='b', width=0.003)\n",
    "    t3_label = 't = '+ str(handle['t'][Nt-1 ])\n",
    "    ax_t3.set_xlabel(t3_label)\n",
    "    \n",
    "    plt.tight_layout()\n",
    "    fig.subplots_adjust(right=0.8)\n",
    "    cbar_ax = fig.add_axes([0.85, 0.10, 0.05, 0.7])\n",
    "    fig.colorbar(im_t3, cax=cbar_ax)\n",
    "    handle.close()\n",
    "    plt.show()"
   ]
  },
  {
   "cell_type": "code",
   "execution_count": 12,
   "metadata": {},
   "outputs": [
    {
     "name": "stdout",
     "output_type": "stream",
     "text": [
      "netcdf created\n",
      "Progress:  10.0  %\n",
      "Progress:  20.0  %\n",
      "Progress:  30.0  %\n",
      "Progress:  40.0  %\n",
      "Progress:  50.0  %\n",
      "Progress:  60.0  %\n",
      "Progress:  70.0  %\n",
      "Progress:  80.0  %\n",
      "Progress:  90.0  %\n",
      "CPU time =  19.510825157165527  seconds\n"
     ]
    },
    {
     "data": {
      "image/png": "[encoded data removed]",
      "text/plain": [
       "<Figure size 612x489.6 with 5 Axes>"
      ]
     },
     "metadata": {
      "needs_background": "light"
     },
     "output_type": "display_data"
    }
   ],
   "source": [
    "path = self_path / \"out.nc\"\n",
    "\n",
    "Lx = 2048\n",
    "Ly = 1024\n",
    "Nx = 256\n",
    "Ny = 128\n",
    "dt = 30\n",
    "\n",
    "T = 1*300\n",
    "#T =48*3600 Complete simulation is very long\n",
    "Nt = T//dt\n",
    "\n",
    "cx = 500\n",
    "cy = 500\n",
    "radius = 100\n",
    "wind_norm = 5\n",
    "\n",
    "\n",
    "ratio_x = Nx//10 # 1 arrow every <ratio> point\n",
    "ratio_y = Ny//10\n",
    "\n",
    "bubble_test(path, Lx, Ly, Nx, Ny, T, Nt, cx, cy, radius, wind_norm)\n",
    "three_points_advection(path, 0)\n",
    "ugly_plot(path, ratio_x,ratio_y)"
   ]
  }
 ],
 "metadata": {
  "kernelspec": {
   "display_name": "Python 3",
   "language": "python",
   "name": "python3"
  },
  "language_info": {
   "codemirror_mode": {
    "name": "ipython",
    "version": 3
   },
   "file_extension": ".py",
   "mimetype": "text/x-python",
   "name": "python",
   "nbconvert_exporter": "python",
   "pygments_lexer": "ipython3",
   "version": "3.8.3"
  }
 },
 "nbformat": 4,
 "nbformat_minor": 4
}
